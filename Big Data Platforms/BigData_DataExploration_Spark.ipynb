{
 "cells": [
  {
   "cell_type": "code",
   "execution_count": 1,
   "metadata": {},
   "outputs": [
    {
     "name": "stdout",
     "output_type": "stream",
     "text": [
      "3.0.1\n"
     ]
    }
   ],
   "source": [
    "#Ensure we are using the right kernel\n",
    "print (sc.version)"
   ]
  },
  {
   "cell_type": "code",
   "execution_count": 2,
   "metadata": {},
   "outputs": [],
   "source": [
    "import os\n",
    "import shutil\n",
    "# import sh\n",
    "from pyspark.sql.functions import *\n",
    "#from pyspark.sql import functions as F\n",
    "from pyspark.sql.types import *\n",
    "%matplotlib inline\n",
    "import pandas as pd\n",
    "import matplotlib.pyplot as plt"
   ]
  },
  {
   "cell_type": "code",
   "execution_count": 3,
   "metadata": {},
   "outputs": [
    {
     "name": "stdout",
     "output_type": "stream",
     "text": [
      "total 1359712\r\n",
      "-rwxr-xr-x 1 kadochnikov kadochnikov 702878193 Nov  4  2016 2007.csv\r\n",
      "-rwxr-xr-x 1 kadochnikov kadochnikov 689413344 Nov  4  2016 2008.csv\r\n"
     ]
    }
   ],
   "source": [
    "!ls -l '/project2/msca/kadochnikov/data/air_travel'"
   ]
  },
  {
   "cell_type": "code",
   "execution_count": 4,
   "metadata": {},
   "outputs": [
    {
     "data": {
      "text/plain": [
       "'file:///project2/msca/kadochnikov/data/air_travel/*'"
      ]
     },
     "execution_count": 4,
     "metadata": {},
     "output_type": "execute_result"
    }
   ],
   "source": [
    "path = \"file:///project2/msca/kadochnikov/data/air_travel/*\"\n",
    "csv_file = path\n",
    "csv_file"
   ]
  },
  {
   "cell_type": "code",
   "execution_count": 5,
   "metadata": {},
   "outputs": [
    {
     "data": {
      "text/plain": [
       "DataFrame[Year: int, Month: int, DayofMonth: int, DayOfWeek: int, DepTime: string, CRSDepTime: int, ArrTime: string, CRSArrTime: int, UniqueCarrier: string, FlightNum: int, TailNum: string, ActualElapsedTime: string, CRSElapsedTime: string, AirTime: string, ArrDelay: string, DepDelay: string, Origin: string, Dest: string, Distance: int, TaxiIn: string, TaxiOut: string, Cancelled: int, CancellationCode: string, Diverted: int, CarrierDelay: string, WeatherDelay: string, NASDelay: string, SecurityDelay: string, LateAircraftDelay: string]"
      ]
     },
     "execution_count": 5,
     "metadata": {},
     "output_type": "execute_result"
    }
   ],
   "source": [
    "air_travel = spark.read.format('com.databricks.spark.csv').\\\n",
    "options(header='true', inferschema='true', delimiter=',', quote='\"').load(csv_file)\n",
    "air_travel.limit(1000).cache()"
   ]
  },
  {
   "cell_type": "code",
   "execution_count": 6,
   "metadata": {},
   "outputs": [
    {
     "name": "stdout",
     "output_type": "stream",
     "text": [
      "+----+-----+----------+---------+-------+----------+-------+----------+-------------+---------+-------+-----------------+--------------+-------+--------+--------+------+----+--------+------+-------+---------+----------------+--------+------------+------------+--------+-------------+-----------------+\n",
      "|Year|Month|DayofMonth|DayOfWeek|DepTime|CRSDepTime|ArrTime|CRSArrTime|UniqueCarrier|FlightNum|TailNum|ActualElapsedTime|CRSElapsedTime|AirTime|ArrDelay|DepDelay|Origin|Dest|Distance|TaxiIn|TaxiOut|Cancelled|CancellationCode|Diverted|CarrierDelay|WeatherDelay|NASDelay|SecurityDelay|LateAircraftDelay|\n",
      "+----+-----+----------+---------+-------+----------+-------+----------+-------------+---------+-------+-----------------+--------------+-------+--------+--------+------+----+--------+------+-------+---------+----------------+--------+------------+------------+--------+-------------+-----------------+\n",
      "|2007|    1|         1|        1|   1232|      1225|   1341|      1340|           WN|     2891|   N351|               69|            75|     54|       1|       7|   SMF| ONT|     389|     4|     11|        0|            null|       0|           0|           0|       0|            0|                0|\n",
      "|2007|    1|         1|        1|   1918|      1905|   2043|      2035|           WN|      462|   N370|               85|            90|     74|       8|      13|   SMF| PDX|     479|     5|      6|        0|            null|       0|           0|           0|       0|            0|                0|\n",
      "|2007|    1|         1|        1|   2206|      2130|   2334|      2300|           WN|     1229|   N685|               88|            90|     73|      34|      36|   SMF| PDX|     479|     6|      9|        0|            null|       0|           3|           0|       0|            0|               31|\n",
      "|2007|    1|         1|        1|   1230|      1200|   1356|      1330|           WN|     1355|   N364|               86|            90|     75|      26|      30|   SMF| PDX|     479|     3|      8|        0|            null|       0|          23|           0|       0|            0|                3|\n",
      "|2007|    1|         1|        1|    831|       830|    957|      1000|           WN|     2278|   N480|               86|            90|     74|      -3|       1|   SMF| PDX|     479|     3|      9|        0|            null|       0|           0|           0|       0|            0|                0|\n",
      "|2007|    1|         1|        1|   1430|      1420|   1553|      1550|           WN|     2386| N611SW|               83|            90|     74|       3|      10|   SMF| PDX|     479|     2|      7|        0|            null|       0|           0|           0|       0|            0|                0|\n",
      "|2007|    1|         1|        1|   1936|      1840|   2217|      2130|           WN|      409|   N482|              101|           110|     89|      47|      56|   SMF| PHX|     647|     5|      7|        0|            null|       0|          46|           0|       0|            0|                1|\n",
      "|2007|    1|         1|        1|    944|       935|   1223|      1225|           WN|     1131| N749SW|               99|           110|     86|      -2|       9|   SMF| PHX|     647|     4|      9|        0|            null|       0|           0|           0|       0|            0|                0|\n",
      "|2007|    1|         1|        1|   1537|      1450|   1819|      1735|           WN|     1212|   N451|              102|           105|     90|      44|      47|   SMF| PHX|     647|     5|      7|        0|            null|       0|          20|           0|       0|            0|               24|\n",
      "|2007|    1|         1|        1|   1318|      1315|   1603|      1610|           WN|     2456| N630WN|              105|           115|     92|      -7|       3|   SMF| PHX|     647|     5|      8|        0|            null|       0|           0|           0|       0|            0|                0|\n",
      "|2007|    1|         1|        1|    836|       835|   1119|      1130|           WN|     2575|   N493|              103|           115|     88|     -11|       1|   SMF| PHX|     647|     7|      8|        0|            null|       0|           0|           0|       0|            0|                0|\n",
      "|2007|    1|         1|        1|   2047|      1955|   2332|      2240|           WN|     2608| N733SW|              105|           105|     89|      52|      52|   SMF| PHX|     647|     7|      9|        0|            null|       0|          49|           0|       0|            0|                3|\n",
      "|2007|    1|         1|        1|   2128|      2035|   2245|      2200|           WN|      139|   N348|               77|            85|     66|      45|      53|   SMF| SAN|     480|     3|      8|        0|            null|       0|           0|           0|       3|            0|               42|\n",
      "|2007|    1|         1|        1|    935|       940|   1048|      1105|           WN|      747|   N358|               73|            85|     63|     -17|      -5|   SMF| SAN|     480|     2|      8|        0|            null|       0|           0|           0|       0|            0|                0|\n",
      "|2007|    1|         1|        1|   1251|      1245|   1405|      1410|           WN|      933|   N413|               74|            85|     65|      -5|       6|   SMF| SAN|     480|     2|      7|        0|            null|       0|           0|           0|       0|            0|                0|\n",
      "|2007|    1|         1|        1|   1729|      1645|   1843|      1810|           WN|     1054|   N416|               74|            85|     64|      33|      44|   SMF| SAN|     480|     3|      7|        0|            null|       0|           3|           0|       0|            0|               30|\n",
      "|2007|    1|         1|        1|    825|       825|    941|       950|           WN|     1106| N383SW|               76|            85|     63|      -9|       0|   SMF| SAN|     480|     3|     10|        0|            null|       0|           0|           0|       0|            0|                0|\n",
      "|2007|    1|         1|        1|   1042|      1040|   1158|      1205|           WN|     1554| N316SW|               76|            85|     66|      -7|       2|   SMF| SAN|     480|     2|      8|        0|            null|       0|           0|           0|       0|            0|                0|\n",
      "|2007|    1|         1|        1|   1726|      1725|   1839|      1850|           WN|     1604| N691WN|               73|            85|     63|     -11|       1|   SMF| SAN|     480|     3|      7|        0|            null|       0|           0|           0|       0|            0|                0|\n",
      "|2007|    1|         1|        1|   1849|      1820|   2016|      1940|           WN|     1975| N308SW|               87|            80|     69|      36|      29|   SMF| SAN|     480|     3|     15|        0|            null|       0|          20|           0|       7|            0|                9|\n",
      "|2007|    1|         1|        1|   2219|      2105|   2332|      2225|           WN|     2083|   N205|               73|            80|     62|      67|      74|   SMF| SAN|     480|     3|      8|        0|            null|       0|           0|           0|       0|            0|               67|\n",
      "|2007|    1|         1|        1|   2012|      1940|   2131|      2105|           WN|     2577| N603SW|               79|            85|     66|      26|      32|   SMF| SAN|     480|     3|     10|        0|            null|       0|           9|           0|       0|            0|               17|\n",
      "|2007|    1|         1|        1|   1458|      1455|   1614|      1620|           WN|     2587| N604SW|               76|            85|     65|      -6|       3|   SMF| SAN|     480|     2|      9|        0|            null|       0|           0|           0|       0|            0|                0|\n",
      "|2007|    1|         1|        1|   1345|      1345|   1456|      1510|           WN|     2643| N700GS|               71|            85|     62|     -14|       0|   SMF| SAN|     480|     2|      7|        0|            null|       0|           0|           0|       0|            0|                0|\n",
      "|2007|    1|         1|        1|    715|       720|    836|       845|           WN|     2755|   N355|               81|            85|     65|      -9|      -5|   SMF| SAN|     480|     2|     14|        0|            null|       0|           0|           0|       0|            0|                0|\n",
      "|2007|    1|         1|        1|   2119|      2100|   2310|      2250|           WN|      961|   N771|              111|           110|     94|      20|      19|   SMF| SEA|     605|     9|      8|        0|            null|       0|          19|           0|       1|            0|                0|\n",
      "|2007|    1|         1|        1|   1530|      1510|   1714|      1700|           WN|     1330|   N469|              104|           110|     91|      14|      20|   SMF| SEA|     605|     5|      8|        0|            null|       0|           0|           0|       0|            0|                0|\n",
      "|2007|    1|         1|        1|   1045|      1035|   1240|      1225|           WN|     1502|   N327|              115|           110|    104|      15|      10|   SMF| SEA|     605|     5|      6|        0|            null|       0|           6|           0|       5|            0|                4|\n",
      "|2007|    1|         1|        1|    802|       800|    953|       955|           WN|     2403| N304SW|              111|           115|     98|      -2|       2|   SMF| SEA|     605|     5|      8|        0|            null|       0|           0|           0|       0|            0|                0|\n",
      "|2007|    1|         1|        1|   1415|      1405|   1529|      1525|           WN|      976|   N204|               74|            80|     64|       4|      10|   SMF| SNA|     404|     4|      6|        0|            null|       0|           0|           0|       0|            0|                0|\n",
      "|2007|    1|         1|        1|   1630|      1630|   1746|      1750|           WN|     1146| N707SA|               76|            80|     60|      -4|       0|   SMF| SNA|     404|     6|     10|        0|            null|       0|           0|           0|       0|            0|                0|\n",
      "|2007|    1|         1|        1|   1527|      1525|   1637|      1645|           WN|     1240| N718SW|               70|            80|     60|      -8|       2|   SMF| SNA|     404|     4|      6|        0|            null|       0|           0|           0|       0|            0|                0|\n",
      "|2007|    1|         1|        1|    731|       735|    844|       900|           WN|     1488|   N465|               73|            85|     60|     -16|      -4|   SMF| SNA|     404|     5|      8|        0|            null|       0|           0|           0|       0|            0|                0|\n",
      "|2007|    1|         1|        1|   1140|      1140|   1253|      1300|           WN|     1596|   N725|               73|            80|     61|      -7|       0|   SMF| SNA|     404|     6|      6|        0|            null|       0|           0|           0|       0|            0|                0|\n",
      "|2007|    1|         1|        1|   2002|      1935|   2115|      2055|           WN|     1784| N711HK|               73|            80|     61|      20|      27|   SMF| SNA|     404|     2|     10|        0|            null|       0|          19|           0|       0|            0|                1|\n",
      "|2007|    1|         1|        1|    946|       950|   1100|      1115|           WN|     2806|   N781|               74|            85|     60|     -15|      -4|   SMF| SNA|     404|     3|     11|        0|            null|       0|           0|           0|       0|            0|                0|\n",
      "|2007|    1|         1|        1|   1501|      1455|   1604|      1555|           WN|      795|   N781|               63|            60|     46|       9|       6|   SNA| LAS|     226|     7|     10|        0|            null|       0|           0|           0|       0|            0|                0|\n",
      "|2007|    1|         1|        1|   1233|      1155|   1342|      1300|           WN|      851|   N479|               69|            65|     47|      42|      38|   SNA| LAS|     226|    15|      7|        0|            null|       0|           0|           0|       4|            0|               38|\n",
      "|2007|    1|         1|        1|     NA|      2030|     NA|      2135|           WN|     2734|      0|               NA|            65|     NA|      NA|      NA|   SNA| LAS|     226|     0|      0|        1|               A|       0|           0|           0|       0|            0|                0|\n",
      "|2007|    1|         1|        1|   2057|      1815|   2205|      1920|           WN|     2782|   N781|               68|            65|     50|     165|     162|   SNA| LAS|     226|     4|     14|        0|            null|       0|         162|           0|       3|            0|                0|\n",
      "|2007|    1|         1|        1|    810|       810|   1347|      1405|           WN|      873|   N774|              217|           235|    205|     -18|       0|   SNA| MDW|    1731|     4|      8|        0|            null|       0|           0|           0|       0|            0|                0|\n",
      "|2007|    1|         1|        1|   1035|      1035|   1154|      1155|           WN|     1184|   N767|               79|            80|     68|      -1|       0|   SNA| OAK|     371|     5|      6|        0|            null|       0|           0|           0|       0|            0|                0|\n",
      "|2007|    1|         1|        1|   1714|      1715|   1835|      1835|           WN|     1737| N718SW|               81|            80|     63|       0|      -1|   SNA| OAK|     371|    13|      5|        0|            null|       0|           0|           0|       0|            0|                0|\n",
      "|2007|    1|         1|        1|   1811|      1805|   1925|      1925|           WN|     2217|   N247|               74|            80|     64|       0|       6|   SNA| OAK|     371|     5|      5|        0|            null|       0|           0|           0|       0|            0|                0|\n",
      "|2007|    1|         1|        1|   1946|      1920|   2110|      2045|           WN|     2347|   N204|               84|            85|     67|      25|      26|   SNA| OAK|     371|     5|     12|        0|            null|       0|          10|           0|       0|            0|               15|\n",
      "|2007|    1|         1|        1|   2154|      2115|   2308|      2235|           WN|     2449| N711HK|               74|            80|     63|      33|      39|   SNA| OAK|     371|     5|      6|        0|            null|       0|          16|           0|       0|            0|               17|\n",
      "|2007|    1|         1|        1|   1600|      1550|   1718|      1710|           WN|     2450|   N204|               78|            80|     68|       8|      10|   SNA| OAK|     371|     4|      6|        0|            null|       0|           0|           0|       0|            0|                0|\n",
      "|2007|    1|         1|        1|   1325|      1325|   1443|      1445|           WN|     2786|   N725|               78|            80|     65|      -2|       0|   SNA| OAK|     371|     4|      9|        0|            null|       0|           0|           0|       0|            0|                0|\n",
      "|2007|    1|         1|        1|   2052|      2005|   2214|      2130|           WN|     2790|   N774|               82|            85|     65|      44|      47|   SNA| OAK|     371|     8|      9|        0|            null|       0|          16|           0|       0|            0|               28|\n",
      "|2007|    1|         1|        1|    905|       905|   1024|      1025|           WN|     2992|   N448|               79|            80|     69|      -1|       0|   SNA| OAK|     371|     4|      6|        0|            null|       0|           0|           0|       0|            0|                0|\n",
      "|2007|    1|         1|        1|   1737|      1645|   1946|      1855|           WN|      212| N663SW|               69|            70|     55|      51|      52|   SNA| PHX|     338|     6|      8|        0|            null|       0|          20|           0|       0|            0|               31|\n",
      "|2007|    1|         1|        1|   1101|      1100|   1307|      1315|           WN|      324|   N765|               66|            75|     54|      -8|       1|   SNA| PHX|     338|     5|      7|        0|            null|       0|           0|           0|       0|            0|                0|\n",
      "|2007|    1|         1|        1|   1402|      1350|   1610|      1600|           WN|      466|   N467|               68|            70|     47|      10|      12|   SNA| PHX|     338|    13|      8|        0|            null|       0|           0|           0|       0|            0|                0|\n",
      "|2007|    1|         1|        1|    921|       925|   1119|      1140|           WN|     1488|   N465|               58|            75|     49|     -21|      -4|   SNA| PHX|     338|     4|      5|        0|            null|       0|           0|           0|       0|            0|                0|\n",
      "|2007|    1|         1|        1|   2108|      2055|   2312|      2305|           WN|     1504| N718SW|               64|            70|     53|       7|      13|   SNA| PHX|     338|     4|      7|        0|            null|       0|           0|           0|       0|            0|                0|\n",
      "|2007|    1|         1|        1|   1245|      1245|   1457|      1450|           WN|     1684|   N493|               72|            65|     56|       7|       0|   SNA| PHX|     338|     5|     11|        0|            null|       0|           0|           0|       0|            0|                0|\n",
      "|2007|    1|         1|        1|   1743|      1730|   1958|      1945|           WN|     1984|   N248|               75|            75|     58|      13|      13|   SNA| PHX|     338|     7|     10|        0|            null|       0|           0|           0|       0|            0|                0|\n",
      "|2007|    1|         1|        1|   1948|      1905|   2157|      2115|           WN|     2515|   N473|               69|            70|     57|      42|      43|   SNA| PHX|     338|     4|      8|        0|            null|       0|          17|           0|       0|            0|               25|\n",
      "|2007|    1|         1|        1|   1408|      1405|   1520|      1520|           WN|      127|   N231|               72|            75|     62|       0|       3|   SNA| SJC|     342|     3|      7|        0|            null|       0|           0|           0|       0|            0|                0|\n",
      "|2007|    1|         1|        1|    829|       835|    940|       950|           WN|      528|   N215|               71|            75|     62|     -10|      -6|   SNA| SJC|     342|     3|      6|        0|            null|       0|           0|           0|       0|            0|                0|\n",
      "|2007|    1|         1|        1|   1953|      1935|   2105|      2050|           WN|     1137|   N262|               72|            75|     61|      15|      18|   SNA| SJC|     342|     2|      9|        0|            null|       0|          15|           0|       0|            0|                0|\n",
      "|2007|    1|         1|        1|   2148|      2040|   2305|      2155|           WN|     1243|   N458|               77|            75|     65|      70|      68|   SNA| SJC|     342|     3|      9|        0|            null|       0|          15|           0|       2|            0|               53|\n",
      "|2007|    1|         1|        1|   1136|      1135|   1246|      1250|           WN|     2037|   N781|               70|            75|     63|      -4|       1|   SNA| SJC|     342|     2|      5|        0|            null|       0|           0|           0|       0|            0|                0|\n",
      "|2007|    1|         1|        1|    950|       950|   1102|      1105|           WN|     2124| N713SW|               72|            75|     62|      -3|       0|   SNA| SJC|     342|     3|      7|        0|            null|       0|           0|           0|       0|            0|                0|\n",
      "|2007|    1|         1|        1|   1638|      1640|   1749|      1755|           WN|     2299| N719SW|               71|            75|     61|      -6|      -2|   SNA| SJC|     342|     4|      6|        0|            null|       0|           0|           0|       0|            0|                0|\n",
      "|2007|    1|         1|        1|    938|       940|   1105|      1105|           WN|      654|   N245|               87|            85|     75|       0|      -2|   SNA| SMF|     404|     4|      8|        0|            null|       0|           0|           0|       0|            0|                0|\n",
      "|2007|    1|         1|        1|   1439|      1440|   1607|      1605|           WN|      728| N707SA|               88|            85|     70|       2|      -1|   SNA| SMF|     404|     3|     15|        0|            null|       0|           0|           0|       0|            0|                0|\n",
      "|2007|    1|         1|        1|   1739|      1740|   1906|      1905|           WN|      812|   N482|               87|            85|     70|       1|      -1|   SNA| SMF|     404|     7|     10|        0|            null|       0|           0|           0|       0|            0|                0|\n",
      "|2007|    1|         1|        1|   1329|      1330|   1457|      1455|           WN|     1803| N713SW|               88|            85|     76|       2|      -1|   SNA| SMF|     404|     2|     10|        0|            null|       0|           0|           0|       0|            0|                0|\n",
      "|2007|    1|         1|        1|   1052|      1055|   1220|      1220|           WN|     1977|   N413|               88|            85|     72|       0|      -3|   SNA| SMF|     404|     3|     13|        0|            null|       0|           0|           0|       0|            0|                0|\n",
      "|2007|    1|         1|        1|   2128|      2105|   2254|      2230|           WN|     2042|   N442|               86|            85|     70|      24|      23|   SNA| SMF|     404|     5|     11|        0|            null|       0|           9|           0|       1|            0|               14|\n",
      "|2007|    1|         1|        1|   1215|      1215|   1339|      1340|           WN|     2588|   N204|               84|            85|     71|      -1|       0|   SNA| SMF|     404|     4|      9|        0|            null|       0|           0|           0|       0|            0|                0|\n",
      "|2007|    1|         1|        1|   1634|      1625|   1808|      1810|           WN|      291| N622SW|              154|           165|    140|      -2|       9|   STL| ABQ|     934|     5|      9|        0|            null|       0|           0|           0|       0|            0|                0|\n",
      "|2007|    1|         1|        1|   1830|      1835|   1937|      1950|           WN|      794| N399WN|               67|            75|     58|     -13|      -5|   STL| BHM|     410|     3|      6|        0|            null|       0|           0|           0|       0|            0|                0|\n",
      "|2007|    1|         1|        1|   1621|      1605|   1908|      1900|           WN|      357| N727SW|              107|           115|     97|       8|      16|   STL| BWI|     737|     4|      6|        0|            null|       0|           0|           0|       0|            0|                0|\n",
      "|2007|    1|         1|        1|   2050|      2050|   2338|      2335|           WN|      675| N637SW|              108|           105|     97|       3|       0|   STL| BWI|     737|     4|      7|        0|            null|       0|           0|           0|       0|            0|                0|\n",
      "|2007|    1|         1|        1|    915|       915|   1158|      1210|           WN|     2574| N664WN|              103|           115|     94|     -12|       0|   STL| BWI|     737|     3|      6|        0|            null|       0|           0|           0|       0|            0|                0|\n",
      "|2007|    1|         1|        1|   1936|      1930|   2159|      2155|           WN|     1057|   N742|               83|            85|     72|       4|       6|   STL| CLE|     487|     5|      6|        0|            null|       0|           0|           0|       0|            0|                0|\n",
      "|2007|    1|         1|        1|    959|      1000|   1222|      1225|           WN|     1477| N390SW|               83|            85|     70|      -3|      -1|   STL| CLE|     487|     5|      8|        0|            null|       0|           0|           0|       0|            0|                0|\n",
      "|2007|    1|         1|        1|   1430|      1420|   1641|      1635|           WN|      522|   N444|               71|            75|     60|       6|      10|   STL| CMH|     410|     4|      7|        0|            null|       0|           0|           0|       0|            0|                0|\n",
      "|2007|    1|         1|        1|   2116|      2110|   2241|      2250|           WN|       82|   N270|               85|           100|     77|      -9|       6|   STL| DAL|     546|     2|      6|        0|            null|       0|           0|           0|       0|            0|                0|\n",
      "|2007|    1|         1|        1|   1423|      1405|   1554|      1550|           WN|       86|   N504|               91|           105|     79|       4|      18|   STL| DAL|     546|     3|      9|        0|            null|       0|           0|           0|       0|            0|                0|\n",
      "|2007|    1|         1|        1|   1902|      1855|   2036|      2035|           WN|      939|   N507|               94|           100|     83|       1|       7|   STL| DAL|     546|     3|      8|        0|            null|       0|           0|           0|       0|            0|                0|\n",
      "|2007|    1|         1|        1|    908|       905|   1035|      1050|           WN|     1959|   N270|               87|           105|     78|     -15|       3|   STL| DAL|     546|     3|      6|        0|            null|       0|           0|           0|       0|            0|                0|\n",
      "|2007|    1|         1|        1|   1058|      1040|   1224|      1225|           WN|     2108| N671SW|               86|           105|     77|      -1|      18|   STL| DAL|     546|     3|      6|        0|            null|       0|           0|           0|       0|            0|                0|\n",
      "|2007|    1|         1|        1|   2112|      2110|   2322|      2330|           WN|      198|   N526|               70|            80|     60|      -8|       2|   STL| DTW|     440|     4|      6|        0|            null|       0|           0|           0|       0|            0|                0|\n",
      "|2007|    1|         1|        1|   1657|      1700|   1920|      1925|           WN|     1880| N637SW|               83|            85|     69|      -5|      -3|   STL| DTW|     440|     7|      7|        0|            null|       0|           0|           0|       0|            0|                0|\n",
      "|2007|    1|         1|        1|   1649|      1645|   2019|      2025|           WN|     1460| N730MA|              150|           160|    140|      -6|       4|   STL| FLL|    1056|     3|      7|        0|            null|       0|           0|           0|       0|            0|                0|\n",
      "|2007|    1|         1|        1|    816|       815|   1003|      1020|           WN|      669| N625SW|              107|           125|     97|     -17|       1|   STL| HOU|     687|     4|      6|        0|            null|       0|           0|           0|       0|            0|                0|\n",
      "|2007|    1|         1|        1|   1442|      1355|   1632|      1600|           WN|     1556|   N367|              110|           125|     98|      32|      47|   STL| HOU|     687|     3|      9|        0|            null|       0|           8|           0|       0|            0|               24|\n",
      "|2007|    1|         1|        1|   1654|      1655|   1846|      1905|           WN|     1629| N615SW|              112|           130|     99|     -19|      -1|   STL| HOU|     687|     5|      8|        0|            null|       0|           0|           0|       0|            0|                0|\n",
      "|2007|    1|         1|        1|    951|       955|   1139|      1200|           WN|     2011| N636WN|              108|           125|     96|     -21|      -4|   STL| HOU|     687|     3|      9|        0|            null|       0|           0|           0|       0|            0|                0|\n",
      "|2007|    1|         1|        1|   2050|      2045|   2243|      2250|           WN|     2948| N699SW|              113|           125|    104|      -7|       5|   STL| HOU|     687|     3|      6|        0|            null|       0|           0|           0|       0|            0|                0|\n",
      "|2007|    1|         1|        1|    808|       810|    946|       950|           WN|     1214| N635SW|              218|           220|    201|      -4|      -2|   STL| LAS|    1372|    10|      7|        0|            null|       0|           0|           0|       0|            0|                0|\n",
      "|2007|    1|         1|        1|   1711|      1710|   1832|      1850|           WN|     1516|   N793|              201|           220|    186|     -18|       1|   STL| LAS|    1372|     8|      7|        0|            null|       0|           0|           0|       0|            0|                0|\n",
      "|2007|    1|         1|        1|   1446|      1445|   1631|      1700|           WN|      732|   N483|              225|           255|    209|     -29|       1|   STL| LAX|    1593|     7|      9|        0|            null|       0|           0|           0|       0|            0|                0|\n",
      "|2007|    1|         1|        1|   1014|      1010|   1106|      1115|           WN|     1361|   N338|               52|            65|     42|      -9|       4|   STL| LIT|     296|     3|      7|        0|            null|       0|           0|           0|       0|            0|                0|\n",
      "|2007|    1|         1|        1|   1813|      1815|   1910|      1920|           WN|     1659|   N682|               57|            65|     48|     -10|      -2|   STL| LIT|     296|     3|      6|        0|            null|       0|           0|           0|       0|            0|                0|\n",
      "|2007|    1|         1|        1|   1914|      1850|   2016|      1950|           WN|      205|   N477|               62|            60|     44|      26|      24|   STL| MCI|     237|     9|      9|        0|            null|       0|          14|           0|       2|            0|               10|\n",
      "|2007|    1|         1|        1|   1629|      1630|   1728|      1730|           WN|     1315| N686SW|               59|            60|     45|      -2|      -1|   STL| MCI|     237|     6|      8|        0|            null|       0|           0|           0|       0|            0|                0|\n",
      "+----+-----+----------+---------+-------+----------+-------+----------+-------------+---------+-------+-----------------+--------------+-------+--------+--------+------+----+--------+------+-------+---------+----------------+--------+------------+------------+--------+-------------+-----------------+\n",
      "only showing top 100 rows\n",
      "\n"
     ]
    }
   ],
   "source": [
    "air_travel.show(100)."
   ]
  },
  {
   "cell_type": "code",
   "execution_count": 7,
   "metadata": {},
   "outputs": [
    {
     "name": "stdout",
     "output_type": "stream",
     "text": [
      "root\n",
      " |-- Year: integer (nullable = true)\n",
      " |-- Month: integer (nullable = true)\n",
      " |-- DayofMonth: integer (nullable = true)\n",
      " |-- DayOfWeek: integer (nullable = true)\n",
      " |-- DepTime: string (nullable = true)\n",
      " |-- CRSDepTime: integer (nullable = true)\n",
      " |-- ArrTime: string (nullable = true)\n",
      " |-- CRSArrTime: integer (nullable = true)\n",
      " |-- UniqueCarrier: string (nullable = true)\n",
      " |-- FlightNum: integer (nullable = true)\n",
      " |-- TailNum: string (nullable = true)\n",
      " |-- ActualElapsedTime: string (nullable = true)\n",
      " |-- CRSElapsedTime: string (nullable = true)\n",
      " |-- AirTime: string (nullable = true)\n",
      " |-- ArrDelay: string (nullable = true)\n",
      " |-- DepDelay: string (nullable = true)\n",
      " |-- Origin: string (nullable = true)\n",
      " |-- Dest: string (nullable = true)\n",
      " |-- Distance: integer (nullable = true)\n",
      " |-- TaxiIn: string (nullable = true)\n",
      " |-- TaxiOut: string (nullable = true)\n",
      " |-- Cancelled: integer (nullable = true)\n",
      " |-- CancellationCode: string (nullable = true)\n",
      " |-- Diverted: integer (nullable = true)\n",
      " |-- CarrierDelay: string (nullable = true)\n",
      " |-- WeatherDelay: string (nullable = true)\n",
      " |-- NASDelay: string (nullable = true)\n",
      " |-- SecurityDelay: string (nullable = true)\n",
      " |-- LateAircraftDelay: string (nullable = true)\n",
      "\n"
     ]
    }
   ],
   "source": [
    "air_travel.printSchema()"
   ]
  },
  {
   "cell_type": "markdown",
   "metadata": {},
   "source": [
    "#### 1.Which locations (Origin and Dest pairs) had the worst delays for both arrivals (ArrDelay) and departures (DepDelay) for each year  \n"
   ]
  },
  {
   "cell_type": "code",
   "execution_count": 8,
   "metadata": {},
   "outputs": [
    {
     "data": {
      "text/html": [
       "<div>\n",
       "<style scoped>\n",
       "    .dataframe tbody tr th:only-of-type {\n",
       "        vertical-align: middle;\n",
       "    }\n",
       "\n",
       "    .dataframe tbody tr th {\n",
       "        vertical-align: top;\n",
       "    }\n",
       "\n",
       "    .dataframe thead th {\n",
       "        text-align: right;\n",
       "    }\n",
       "</style>\n",
       "<table border=\"1\" class=\"dataframe\">\n",
       "  <thead>\n",
       "    <tr style=\"text-align: right;\">\n",
       "      <th></th>\n",
       "      <th>Year</th>\n",
       "      <th>Month</th>\n",
       "      <th>DayofMonth</th>\n",
       "      <th>DayOfWeek</th>\n",
       "      <th>DepTime</th>\n",
       "      <th>CRSDepTime</th>\n",
       "      <th>ArrTime</th>\n",
       "      <th>CRSArrTime</th>\n",
       "      <th>UniqueCarrier</th>\n",
       "      <th>FlightNum</th>\n",
       "      <th>...</th>\n",
       "      <th>TaxiIn</th>\n",
       "      <th>TaxiOut</th>\n",
       "      <th>Cancelled</th>\n",
       "      <th>CancellationCode</th>\n",
       "      <th>Diverted</th>\n",
       "      <th>CarrierDelay</th>\n",
       "      <th>WeatherDelay</th>\n",
       "      <th>NASDelay</th>\n",
       "      <th>SecurityDelay</th>\n",
       "      <th>LateAircraftDelay</th>\n",
       "    </tr>\n",
       "  </thead>\n",
       "  <tbody>\n",
       "    <tr>\n",
       "      <th>0</th>\n",
       "      <td>2007</td>\n",
       "      <td>1</td>\n",
       "      <td>1</td>\n",
       "      <td>1</td>\n",
       "      <td>1232</td>\n",
       "      <td>1225</td>\n",
       "      <td>1341</td>\n",
       "      <td>1340</td>\n",
       "      <td>WN</td>\n",
       "      <td>2891</td>\n",
       "      <td>...</td>\n",
       "      <td>4</td>\n",
       "      <td>11</td>\n",
       "      <td>0</td>\n",
       "      <td>None</td>\n",
       "      <td>0</td>\n",
       "      <td>0</td>\n",
       "      <td>0</td>\n",
       "      <td>0</td>\n",
       "      <td>0</td>\n",
       "      <td>0</td>\n",
       "    </tr>\n",
       "    <tr>\n",
       "      <th>1</th>\n",
       "      <td>2007</td>\n",
       "      <td>1</td>\n",
       "      <td>1</td>\n",
       "      <td>1</td>\n",
       "      <td>1918</td>\n",
       "      <td>1905</td>\n",
       "      <td>2043</td>\n",
       "      <td>2035</td>\n",
       "      <td>WN</td>\n",
       "      <td>462</td>\n",
       "      <td>...</td>\n",
       "      <td>5</td>\n",
       "      <td>6</td>\n",
       "      <td>0</td>\n",
       "      <td>None</td>\n",
       "      <td>0</td>\n",
       "      <td>0</td>\n",
       "      <td>0</td>\n",
       "      <td>0</td>\n",
       "      <td>0</td>\n",
       "      <td>0</td>\n",
       "    </tr>\n",
       "    <tr>\n",
       "      <th>2</th>\n",
       "      <td>2007</td>\n",
       "      <td>1</td>\n",
       "      <td>1</td>\n",
       "      <td>1</td>\n",
       "      <td>2206</td>\n",
       "      <td>2130</td>\n",
       "      <td>2334</td>\n",
       "      <td>2300</td>\n",
       "      <td>WN</td>\n",
       "      <td>1229</td>\n",
       "      <td>...</td>\n",
       "      <td>6</td>\n",
       "      <td>9</td>\n",
       "      <td>0</td>\n",
       "      <td>None</td>\n",
       "      <td>0</td>\n",
       "      <td>3</td>\n",
       "      <td>0</td>\n",
       "      <td>0</td>\n",
       "      <td>0</td>\n",
       "      <td>31</td>\n",
       "    </tr>\n",
       "    <tr>\n",
       "      <th>3</th>\n",
       "      <td>2007</td>\n",
       "      <td>1</td>\n",
       "      <td>1</td>\n",
       "      <td>1</td>\n",
       "      <td>1230</td>\n",
       "      <td>1200</td>\n",
       "      <td>1356</td>\n",
       "      <td>1330</td>\n",
       "      <td>WN</td>\n",
       "      <td>1355</td>\n",
       "      <td>...</td>\n",
       "      <td>3</td>\n",
       "      <td>8</td>\n",
       "      <td>0</td>\n",
       "      <td>None</td>\n",
       "      <td>0</td>\n",
       "      <td>23</td>\n",
       "      <td>0</td>\n",
       "      <td>0</td>\n",
       "      <td>0</td>\n",
       "      <td>3</td>\n",
       "    </tr>\n",
       "    <tr>\n",
       "      <th>4</th>\n",
       "      <td>2007</td>\n",
       "      <td>1</td>\n",
       "      <td>1</td>\n",
       "      <td>1</td>\n",
       "      <td>831</td>\n",
       "      <td>830</td>\n",
       "      <td>957</td>\n",
       "      <td>1000</td>\n",
       "      <td>WN</td>\n",
       "      <td>2278</td>\n",
       "      <td>...</td>\n",
       "      <td>3</td>\n",
       "      <td>9</td>\n",
       "      <td>0</td>\n",
       "      <td>None</td>\n",
       "      <td>0</td>\n",
       "      <td>0</td>\n",
       "      <td>0</td>\n",
       "      <td>0</td>\n",
       "      <td>0</td>\n",
       "      <td>0</td>\n",
       "    </tr>\n",
       "    <tr>\n",
       "      <th>5</th>\n",
       "      <td>2007</td>\n",
       "      <td>1</td>\n",
       "      <td>1</td>\n",
       "      <td>1</td>\n",
       "      <td>1430</td>\n",
       "      <td>1420</td>\n",
       "      <td>1553</td>\n",
       "      <td>1550</td>\n",
       "      <td>WN</td>\n",
       "      <td>2386</td>\n",
       "      <td>...</td>\n",
       "      <td>2</td>\n",
       "      <td>7</td>\n",
       "      <td>0</td>\n",
       "      <td>None</td>\n",
       "      <td>0</td>\n",
       "      <td>0</td>\n",
       "      <td>0</td>\n",
       "      <td>0</td>\n",
       "      <td>0</td>\n",
       "      <td>0</td>\n",
       "    </tr>\n",
       "    <tr>\n",
       "      <th>6</th>\n",
       "      <td>2007</td>\n",
       "      <td>1</td>\n",
       "      <td>1</td>\n",
       "      <td>1</td>\n",
       "      <td>1936</td>\n",
       "      <td>1840</td>\n",
       "      <td>2217</td>\n",
       "      <td>2130</td>\n",
       "      <td>WN</td>\n",
       "      <td>409</td>\n",
       "      <td>...</td>\n",
       "      <td>5</td>\n",
       "      <td>7</td>\n",
       "      <td>0</td>\n",
       "      <td>None</td>\n",
       "      <td>0</td>\n",
       "      <td>46</td>\n",
       "      <td>0</td>\n",
       "      <td>0</td>\n",
       "      <td>0</td>\n",
       "      <td>1</td>\n",
       "    </tr>\n",
       "    <tr>\n",
       "      <th>7</th>\n",
       "      <td>2007</td>\n",
       "      <td>1</td>\n",
       "      <td>1</td>\n",
       "      <td>1</td>\n",
       "      <td>944</td>\n",
       "      <td>935</td>\n",
       "      <td>1223</td>\n",
       "      <td>1225</td>\n",
       "      <td>WN</td>\n",
       "      <td>1131</td>\n",
       "      <td>...</td>\n",
       "      <td>4</td>\n",
       "      <td>9</td>\n",
       "      <td>0</td>\n",
       "      <td>None</td>\n",
       "      <td>0</td>\n",
       "      <td>0</td>\n",
       "      <td>0</td>\n",
       "      <td>0</td>\n",
       "      <td>0</td>\n",
       "      <td>0</td>\n",
       "    </tr>\n",
       "    <tr>\n",
       "      <th>8</th>\n",
       "      <td>2007</td>\n",
       "      <td>1</td>\n",
       "      <td>1</td>\n",
       "      <td>1</td>\n",
       "      <td>1537</td>\n",
       "      <td>1450</td>\n",
       "      <td>1819</td>\n",
       "      <td>1735</td>\n",
       "      <td>WN</td>\n",
       "      <td>1212</td>\n",
       "      <td>...</td>\n",
       "      <td>5</td>\n",
       "      <td>7</td>\n",
       "      <td>0</td>\n",
       "      <td>None</td>\n",
       "      <td>0</td>\n",
       "      <td>20</td>\n",
       "      <td>0</td>\n",
       "      <td>0</td>\n",
       "      <td>0</td>\n",
       "      <td>24</td>\n",
       "    </tr>\n",
       "    <tr>\n",
       "      <th>9</th>\n",
       "      <td>2007</td>\n",
       "      <td>1</td>\n",
       "      <td>1</td>\n",
       "      <td>1</td>\n",
       "      <td>1318</td>\n",
       "      <td>1315</td>\n",
       "      <td>1603</td>\n",
       "      <td>1610</td>\n",
       "      <td>WN</td>\n",
       "      <td>2456</td>\n",
       "      <td>...</td>\n",
       "      <td>5</td>\n",
       "      <td>8</td>\n",
       "      <td>0</td>\n",
       "      <td>None</td>\n",
       "      <td>0</td>\n",
       "      <td>0</td>\n",
       "      <td>0</td>\n",
       "      <td>0</td>\n",
       "      <td>0</td>\n",
       "      <td>0</td>\n",
       "    </tr>\n",
       "  </tbody>\n",
       "</table>\n",
       "<p>10 rows × 29 columns</p>\n",
       "</div>"
      ],
      "text/plain": [
       "   Year  Month  DayofMonth  DayOfWeek DepTime  CRSDepTime ArrTime  CRSArrTime  \\\n",
       "0  2007      1           1          1    1232        1225    1341        1340   \n",
       "1  2007      1           1          1    1918        1905    2043        2035   \n",
       "2  2007      1           1          1    2206        2130    2334        2300   \n",
       "3  2007      1           1          1    1230        1200    1356        1330   \n",
       "4  2007      1           1          1     831         830     957        1000   \n",
       "5  2007      1           1          1    1430        1420    1553        1550   \n",
       "6  2007      1           1          1    1936        1840    2217        2130   \n",
       "7  2007      1           1          1     944         935    1223        1225   \n",
       "8  2007      1           1          1    1537        1450    1819        1735   \n",
       "9  2007      1           1          1    1318        1315    1603        1610   \n",
       "\n",
       "  UniqueCarrier  FlightNum  ... TaxiIn TaxiOut Cancelled CancellationCode  \\\n",
       "0            WN       2891  ...      4      11         0             None   \n",
       "1            WN        462  ...      5       6         0             None   \n",
       "2            WN       1229  ...      6       9         0             None   \n",
       "3            WN       1355  ...      3       8         0             None   \n",
       "4            WN       2278  ...      3       9         0             None   \n",
       "5            WN       2386  ...      2       7         0             None   \n",
       "6            WN        409  ...      5       7         0             None   \n",
       "7            WN       1131  ...      4       9         0             None   \n",
       "8            WN       1212  ...      5       7         0             None   \n",
       "9            WN       2456  ...      5       8         0             None   \n",
       "\n",
       "  Diverted CarrierDelay WeatherDelay NASDelay  SecurityDelay LateAircraftDelay  \n",
       "0        0            0            0        0              0                 0  \n",
       "1        0            0            0        0              0                 0  \n",
       "2        0            3            0        0              0                31  \n",
       "3        0           23            0        0              0                 3  \n",
       "4        0            0            0        0              0                 0  \n",
       "5        0            0            0        0              0                 0  \n",
       "6        0           46            0        0              0                 1  \n",
       "7        0            0            0        0              0                 0  \n",
       "8        0           20            0        0              0                24  \n",
       "9        0            0            0        0              0                 0  \n",
       "\n",
       "[10 rows x 29 columns]"
      ]
     },
     "execution_count": 8,
     "metadata": {},
     "output_type": "execute_result"
    }
   ],
   "source": [
    "air_travel.limit(10).toPandas()"
   ]
  },
  {
   "cell_type": "code",
   "execution_count": 10,
   "metadata": {},
   "outputs": [],
   "source": [
    "air_travel = air_travel.withColumn(\"ArrDelay\", air_travel[\"ArrDelay\"].cast(IntegerType())).\\\n",
    "withColumn(\"DepDelay\", air_travel[\"DepDelay\"].cast(IntegerType())).\\\n",
    "withColumn(\"Year\", air_travel[\"Year\"].cast(IntegerType())).\\\n",
    "withColumn(\"Month\", air_travel[\"Month\"].cast(IntegerType()))"
   ]
  },
  {
   "cell_type": "code",
   "execution_count": 11,
   "metadata": {},
   "outputs": [
    {
     "name": "stdout",
     "output_type": "stream",
     "text": [
      "root\n",
      " |-- Year: integer (nullable = true)\n",
      " |-- Month: integer (nullable = true)\n",
      " |-- DayofMonth: integer (nullable = true)\n",
      " |-- DayOfWeek: integer (nullable = true)\n",
      " |-- DepTime: string (nullable = true)\n",
      " |-- CRSDepTime: integer (nullable = true)\n",
      " |-- ArrTime: string (nullable = true)\n",
      " |-- CRSArrTime: integer (nullable = true)\n",
      " |-- UniqueCarrier: string (nullable = true)\n",
      " |-- FlightNum: integer (nullable = true)\n",
      " |-- TailNum: string (nullable = true)\n",
      " |-- ActualElapsedTime: string (nullable = true)\n",
      " |-- CRSElapsedTime: string (nullable = true)\n",
      " |-- AirTime: string (nullable = true)\n",
      " |-- ArrDelay: integer (nullable = true)\n",
      " |-- DepDelay: integer (nullable = true)\n",
      " |-- Origin: string (nullable = true)\n",
      " |-- Dest: string (nullable = true)\n",
      " |-- Distance: integer (nullable = true)\n",
      " |-- TaxiIn: string (nullable = true)\n",
      " |-- TaxiOut: string (nullable = true)\n",
      " |-- Cancelled: integer (nullable = true)\n",
      " |-- CancellationCode: string (nullable = true)\n",
      " |-- Diverted: integer (nullable = true)\n",
      " |-- CarrierDelay: string (nullable = true)\n",
      " |-- WeatherDelay: string (nullable = true)\n",
      " |-- NASDelay: string (nullable = true)\n",
      " |-- SecurityDelay: string (nullable = true)\n",
      " |-- LateAircraftDelay: string (nullable = true)\n",
      "\n"
     ]
    }
   ],
   "source": [
    "air_travel.printSchema()"
   ]
  },
  {
   "cell_type": "code",
   "execution_count": 61,
   "metadata": {},
   "outputs": [
    {
     "name": "stdout",
     "output_type": "stream",
     "text": [
      "+------+----+----+-------------+---------------+\n",
      "|Origin|Dest|Year|Arrival_Delay|Departure_Delay|\n",
      "+------+----+----+-------------+---------------+\n",
      "|   CMI| SPI|2008|        575.0|          587.0|\n",
      "|   ONT| IAD|2007|        370.0|          386.0|\n",
      "|   ELP| MFE|2007|        316.0|          307.0|\n",
      "|   ONT| SAN|2008|        257.0|          221.0|\n",
      "|   ACY| MYR|2007|        252.0|          222.0|\n",
      "+------+----+----+-------------+---------------+\n",
      "only showing top 5 rows\n",
      "\n"
     ]
    }
   ],
   "source": [
    "air_travel.filter((air_travel['ArrDelay']>0) | (air_travel['DepDelay'] > 0)).\\\n",
    "groupBy('Origin','Dest','Year').\\\n",
    "agg(avg('ArrDelay').alias(\"Arrival_Delay\"), avg('DepDelay').alias(\"Departure_Delay\")).\\\n",
    "orderBy('Arrival_Delay','Departure_Delay', ascending=False).show(5)"
   ]
  },
  {
   "cell_type": "markdown",
   "metadata": {},
   "source": [
    "CMI - SPI and ONT -IAD routes has the worst delays for both arrival and departures when compared to all the other routes for the year 2008 and 2007 respectively."
   ]
  },
  {
   "cell_type": "markdown",
   "metadata": {},
   "source": [
    "#### 2.Which locations had fewest delays  \n"
   ]
  },
  {
   "cell_type": "markdown",
   "metadata": {},
   "source": [
    "Filtering for conditions where the ArrDelay and DepDelay are less than 0. These are the flights where there has been no delays"
   ]
  },
  {
   "cell_type": "code",
   "execution_count": 50,
   "metadata": {},
   "outputs": [
    {
     "name": "stdout",
     "output_type": "stream",
     "text": [
      "+------+----+-------------------+\n",
      "|Origin|Dest|Arrival_Delay_count|\n",
      "+------+----+-------------------+\n",
      "|   OGG| HNL|              18273|\n",
      "|   HNL| OGG|              17528|\n",
      "|   HNL| LIH|              16146|\n",
      "|   LIH| HNL|              15991|\n",
      "|   SAN| LAX|              14701|\n",
      "+------+----+-------------------+\n",
      "only showing top 5 rows\n",
      "\n"
     ]
    }
   ],
   "source": [
    "air_travel.filter((air_travel['ArrDelay']< 0)).\\\n",
    "groupBy('Origin','Dest').\\\n",
    "agg(count('ArrDelay').alias(\"Arrival_Delay_count\")).\\\n",
    "orderBy('Arrival_Delay_count', ascending=False).show(5)"
   ]
  },
  {
   "cell_type": "code",
   "execution_count": 58,
   "metadata": {},
   "outputs": [
    {
     "name": "stdout",
     "output_type": "stream",
     "text": [
      "+------+----+---------------------+\n",
      "|Origin|Dest|Departure_Delay_count|\n",
      "+------+----+---------------------+\n",
      "|   OGG| HNL|                20172|\n",
      "|   HNL| OGG|                19458|\n",
      "|   LIH| HNL|                17905|\n",
      "|   HNL| LIH|                16663|\n",
      "|   SAN| LAX|                16466|\n",
      "+------+----+---------------------+\n",
      "only showing top 5 rows\n",
      "\n"
     ]
    }
   ],
   "source": [
    "air_travel.filter((air_travel['DepDelay']< 0)).\\\n",
    "groupBy('Origin','Dest').\\\n",
    "agg(count('DepDelay').alias(\"Departure_Delay_count\")).\\\n",
    "orderBy('Departure_Delay_count', ascending=False).show(5)"
   ]
  },
  {
   "cell_type": "markdown",
   "metadata": {},
   "source": [
    "Based on the above tables we can say that the locations OGG - HNL has the fewest arrival and departure delays. "
   ]
  },
  {
   "cell_type": "markdown",
   "metadata": {},
   "source": [
    "#### 3.Do you see any significant seasonality effects for delays?\n"
   ]
  },
  {
   "cell_type": "code",
   "execution_count": 14,
   "metadata": {},
   "outputs": [],
   "source": [
    "delay_effect= air_travel.filter((air_travel['ArrDelay']>0) | (air_travel['DepDelay'] > 0)).\\\n",
    "groupBy('Year','Month').\\\n",
    "agg(count('ArrDelay').alias(\"Arrival_Delay_count\"), count('DepDelay').alias(\"Departure_Delay_count\")).\\\n",
    "orderBy('Year','Month','Arrival_Delay_count','Departure_Delay_count' ,ascending=False)"
   ]
  },
  {
   "cell_type": "code",
   "execution_count": 47,
   "metadata": {},
   "outputs": [],
   "source": [
    "delay_effect_2007 = delay_effect.filter(air_travel['Year'] == 2007).toPandas()\n",
    "delay_effect_2008 = delay_effect.filter(air_travel['Year'] == 2008).toPandas()"
   ]
  },
  {
   "cell_type": "code",
   "execution_count": 48,
   "metadata": {},
   "outputs": [
    {
     "data": {
      "text/plain": [
       "Text(0, 0.5, 'Arrival_Delay_count')"
      ]
     },
     "execution_count": 48,
     "metadata": {},
     "output_type": "execute_result"
    },
    {
     "data": {
      "image/png": "[encoded data removed]",
      "text/plain": [
       "<Figure size 432x288 with 1 Axes>"
      ]
     },
     "metadata": {
      "needs_background": "light"
     },
     "output_type": "display_data"
    }
   ],
   "source": [
    "my_plot = delay_effect_2007.plot(kind='bar',x='Month', y='Arrival_Delay_count', \n",
    "                                 legend=None, title=\"Delay pattern by month for 2007\")\n",
    "my_plot.set_xlabel(\"Month\")\n",
    "my_plot.set_ylabel(\"Arrival_Delay_count\")"
   ]
  },
  {
   "cell_type": "code",
   "execution_count": 49,
   "metadata": {},
   "outputs": [
    {
     "data": {
      "text/plain": [
       "Text(0, 0.5, 'Arrival_Delay_count')"
      ]
     },
     "execution_count": 49,
     "metadata": {},
     "output_type": "execute_result"
    },
    {
     "data": {
      "image/png": "[encoded data removed]",
      "text/plain": [
       "<Figure size 432x288 with 1 Axes>"
      ]
     },
     "metadata": {
      "needs_background": "light"
     },
     "output_type": "display_data"
    }
   ],
   "source": [
    "my_plot = delay_effect_2008.plot(kind='bar',x='Month', y='Arrival_Delay_count', legend=None, \n",
    "                                 title=\"Delay pattern by month for 2008\")\n",
    "my_plot.set_xlabel(\"Month\")\n",
    "my_plot.set_ylabel(\"Arrival_Delay_count\")"
   ]
  },
  {
   "cell_type": "markdown",
   "metadata": {},
   "source": [
    "Based on the above plot we can see that for both the years the delay pattern is similar. For both the years, the months June, July, August and December has significantly higher delays compared to the other months. Also, the months September, October and November has lesser number of delays."
   ]
  },
  {
   "cell_type": "markdown",
   "metadata": {},
   "source": [
    "#### 4. Do you see any increase or decrease in delays on weekends?"
   ]
  },
  {
   "cell_type": "code",
   "execution_count": 20,
   "metadata": {},
   "outputs": [],
   "source": [
    "delay_effect_weekend = air_travel.filter((air_travel['ArrDelay']>0) | (air_travel['DepDelay'] > 0)).\\\n",
    "groupBy('DayOfWeek').\\\n",
    "agg(count('ArrDelay').alias(\"Arrival_Delay_count\"), count('DepDelay').alias(\"Departure_Delay_count\")).\\\n",
    "orderBy('DayOfWeek','Arrival_Delay_count','Departure_Delay_count',ascending=False).toPandas()"
   ]
  },
  {
   "cell_type": "code",
   "execution_count": 21,
   "metadata": {},
   "outputs": [
    {
     "data": {
      "text/plain": [
       "Text(0, 0.5, 'Arrival_Delay_count')"
      ]
     },
     "execution_count": 21,
     "metadata": {},
     "output_type": "execute_result"
    },
    {
     "data": {
      "image/png": "[encoded data removed]",
      "text/plain": [
       "<Figure size 432x288 with 1 Axes>"
      ]
     },
     "metadata": {
      "needs_background": "light"
     },
     "output_type": "display_data"
    }
   ],
   "source": [
    "my_plot = delay_effect_weekend.plot(kind='bar',x='DayOfWeek', y='Arrival_Delay_count', \n",
    "                                 legend=None, title=\"Delay pattern by weekend\")\n",
    "my_plot.set_xlabel(\"DayOfWeek\")\n",
    "my_plot.set_ylabel(\"Arrival_Delay_count\")"
   ]
  },
  {
   "cell_type": "markdown",
   "metadata": {},
   "source": [
    "Based on the above plot we can infer that the delays increase as the week progress and the delay reduce over the weekend."
   ]
  },
  {
   "cell_type": "markdown",
   "metadata": {},
   "source": [
    "#### 5.Are flights equally distributed throughout the day?  \n",
    "    - Plot the distribution of DepTime, ArrTime (actual departure and arrival time)"
   ]
  },
  {
   "cell_type": "code",
   "execution_count": 36,
   "metadata": {},
   "outputs": [
    {
     "data": {
      "text/plain": [
       "Text(0.5, 1.0, 'Monday')"
      ]
     },
     "execution_count": 36,
     "metadata": {},
     "output_type": "execute_result"
    },
    {
     "data": {
      "image/png": "[encoded data removed]",
      "text/plain": [
       "<Figure size 432x288 with 1 Axes>"
      ]
     },
     "metadata": {
      "needs_background": "light"
     },
     "output_type": "display_data"
    }
   ],
   "source": [
    "time_day = air_travel.filter(\"ArrTime != 'NA'\").groupby('ArrTime', 'DayOfWeek').count()\n",
    "time_day = time_day.filter('DayOfWeek == 1').withColumn('ArrTime', time_day.ArrTime.cast('int').cast('int')).orderBy('ArrTime').toPandas()\n",
    "time_day['minutes'] = range(1, len(time_day)+1)\n",
    "time_day['hours'] = time_day['minutes']//60\n",
    "time_day = time_day.groupby('hours').sum()[['count']]\n",
    "plt.bar(range(1, 25), time_day.iloc[:-1]['count'].values)\n",
    "plt.ylabel('Number of Delays')\n",
    "plt.xlabel('Hours')\n",
    "plt.title('Monday')"
   ]
  },
  {
   "cell_type": "code",
   "execution_count": 30,
   "metadata": {},
   "outputs": [
    {
     "data": {
      "text/plain": [
       "Text(0.5, 1.0, 'Tuesday')"
      ]
     },
     "execution_count": 30,
     "metadata": {},
     "output_type": "execute_result"
    },
    {
     "data": {
      "image/png": "[encoded data removed]",
      "text/plain": [
       "<Figure size 432x288 with 1 Axes>"
      ]
     },
     "metadata": {
      "needs_background": "light"
     },
     "output_type": "display_data"
    }
   ],
   "source": [
    "time_day = air_travel.filter(\"ArrTime != 'NA'\").groupby('ArrTime', 'DayOfWeek').count()\n",
    "time_day = time_day.filter('DayOfWeek == 2').withColumn('ArrTime', time_day.ArrTime.cast('int').cast('int')).orderBy('ArrTime').toPandas()\n",
    "time_day['minutes'] = range(1, len(time_day)+1)\n",
    "time_day['hours'] = time_day['minutes']//60\n",
    "time_day = time_day.groupby('hours').sum()[['count']]\n",
    "plt.bar(range(1, 25), time_day.iloc[:-1]['count'].values)\n",
    "plt.ylabel('Number of Delays')\n",
    "plt.xlabel('Hours')\n",
    "plt.title('Tuesday')"
   ]
  },
  {
   "cell_type": "code",
   "execution_count": 31,
   "metadata": {},
   "outputs": [
    {
     "data": {
      "text/plain": [
       "Text(0.5, 1.0, 'Wednesday')"
      ]
     },
     "execution_count": 31,
     "metadata": {},
     "output_type": "execute_result"
    },
    {
     "data": {
      "image/png": "[encoded data removed]",
      "text/plain": [
       "<Figure size 432x288 with 1 Axes>"
      ]
     },
     "metadata": {
      "needs_background": "light"
     },
     "output_type": "display_data"
    }
   ],
   "source": [
    "time_day = air_travel.filter(\"ArrTime != 'NA'\").groupby('ArrTime', 'DayOfWeek').count()\n",
    "time_day = time_day.filter('DayOfWeek == 3').withColumn('ArrTime', time_day.ArrTime.cast('int').cast('int')).orderBy('ArrTime').toPandas()\n",
    "time_day['minutes'] = range(1, len(time_day)+1)\n",
    "time_day['hours'] = time_day['minutes']//60\n",
    "time_day = time_day.groupby('hours').sum()[['count']]\n",
    "plt.bar(range(1, 25), time_day.iloc[:-1]['count'].values)\n",
    "plt.ylabel('Number of Delays')\n",
    "plt.xlabel('Hours')\n",
    "plt.title('Wednesday')"
   ]
  },
  {
   "cell_type": "code",
   "execution_count": 32,
   "metadata": {},
   "outputs": [
    {
     "data": {
      "text/plain": [
       "Text(0.5, 1.0, 'Thursday')"
      ]
     },
     "execution_count": 32,
     "metadata": {},
     "output_type": "execute_result"
    },
    {
     "data": {
      "image/png": "[encoded data removed]",
      "text/plain": [
       "<Figure size 432x288 with 1 Axes>"
      ]
     },
     "metadata": {
      "needs_background": "light"
     },
     "output_type": "display_data"
    }
   ],
   "source": [
    "time_day = air_travel.filter(\"ArrTime != 'NA'\").groupby('ArrTime', 'DayOfWeek').count()\n",
    "time_day = time_day.filter('DayOfWeek == 4').withColumn('ArrTime', time_day.ArrTime.cast('int').cast('int')).orderBy('ArrTime').toPandas()\n",
    "time_day['minutes'] = range(1, len(time_day)+1)\n",
    "time_day['hours'] = time_day['minutes']//60\n",
    "time_day = time_day.groupby('hours').sum()[['count']]\n",
    "plt.bar(range(1, 25), time_day.iloc[:-1]['count'].values)\n",
    "plt.ylabel('Number of Delays')\n",
    "plt.xlabel('Hours')\n",
    "plt.title('Thursday')"
   ]
  },
  {
   "cell_type": "code",
   "execution_count": 33,
   "metadata": {},
   "outputs": [
    {
     "data": {
      "text/plain": [
       "Text(0.5, 1.0, 'Friday')"
      ]
     },
     "execution_count": 33,
     "metadata": {},
     "output_type": "execute_result"
    },
    {
     "data": {
      "image/png": "[encoded data removed]",
      "text/plain": [
       "<Figure size 432x288 with 1 Axes>"
      ]
     },
     "metadata": {
      "needs_background": "light"
     },
     "output_type": "display_data"
    }
   ],
   "source": [
    "time_day = air_travel.filter(\"ArrTime != 'NA'\").groupby('ArrTime', 'DayOfWeek').count()\n",
    "time_day = time_day.filter('DayOfWeek == 5').withColumn('ArrTime', time_day.ArrTime.cast('int').cast('int')).orderBy('ArrTime').toPandas()\n",
    "time_day['minutes'] = range(1, len(time_day)+1)\n",
    "time_day['hours'] = time_day['minutes']//60\n",
    "time_day = time_day.groupby('hours').sum()[['count']]\n",
    "plt.bar(range(1, 25), time_day.iloc[:-1]['count'].values)\n",
    "plt.ylabel('Number of Delays')\n",
    "plt.xlabel('Hours')\n",
    "plt.title('Friday')"
   ]
  },
  {
   "cell_type": "code",
   "execution_count": 34,
   "metadata": {},
   "outputs": [
    {
     "data": {
      "text/plain": [
       "Text(0.5, 1.0, 'Saturday')"
      ]
     },
     "execution_count": 34,
     "metadata": {},
     "output_type": "execute_result"
    },
    {
     "data": {
      "image/png": "[encoded data removed]",
      "text/plain": [
       "<Figure size 432x288 with 1 Axes>"
      ]
     },
     "metadata": {
      "needs_background": "light"
     },
     "output_type": "display_data"
    }
   ],
   "source": [
    "time_day = air_travel.filter(\"ArrTime != 'NA'\").groupby('ArrTime', 'DayOfWeek').count()\n",
    "time_day = time_day.filter('DayOfWeek == 6').withColumn('ArrTime', time_day.ArrTime.cast('int').cast('int')).orderBy('ArrTime').toPandas()\n",
    "time_day['minutes'] = range(1, len(time_day)+1)\n",
    "time_day['hours'] = time_day['minutes']//60\n",
    "time_day = time_day.groupby('hours').sum()[['count']]\n",
    "plt.bar(range(1, 25), time_day.iloc[:-1]['count'].values)\n",
    "plt.ylabel('Number of Delays')\n",
    "plt.xlabel('Hours')\n",
    "plt.title('Saturday')"
   ]
  },
  {
   "cell_type": "code",
   "execution_count": 35,
   "metadata": {},
   "outputs": [
    {
     "data": {
      "text/plain": [
       "Text(0.5, 1.0, 'Sunday')"
      ]
     },
     "execution_count": 35,
     "metadata": {},
     "output_type": "execute_result"
    },
    {
     "data": {
      "image/png": "[encoded data removed]",
      "text/plain": [
       "<Figure size 432x288 with 1 Axes>"
      ]
     },
     "metadata": {
      "needs_background": "light"
     },
     "output_type": "display_data"
    }
   ],
   "source": [
    "time_day = air_travel.filter(\"ArrTime != 'NA'\").groupby('ArrTime', 'DayOfWeek').count()\n",
    "time_day = time_day.filter('DayOfWeek == 7').withColumn('ArrTime', time_day.ArrTime.cast('int').cast('int')).orderBy('ArrTime').toPandas()\n",
    "time_day['minutes'] = range(1, len(time_day)+1)\n",
    "time_day['hours'] = time_day['minutes']//60\n",
    "time_day = time_day.groupby('hours').sum()[['count']]\n",
    "plt.bar(range(1, 25), time_day.iloc[:-1]['count'].values)\n",
    "plt.ylabel('Number of Delays')\n",
    "plt.xlabel('Hours')\n",
    "plt.title('Sunday')"
   ]
  },
  {
   "cell_type": "markdown",
   "metadata": {},
   "source": [
    "Based on the above visualizations we can conclude that the flights are not equally distributed throughout the day. The flight traffic is the least between 12am and 5am, and the traffic gradually increase over the time."
   ]
  },
  {
   "cell_type": "markdown",
   "metadata": {},
   "source": [
    "\n",
    "#### 6.Do you see the worst delays at any certain times of the day?  \n",
    "    - Contrast DepTime, ArrTime with CRSDepTime, CRSArrTime (scheduled arrival and departure time; CRS is the Computer Reservation System)  \n",
    "    - Your final output should look like a chart (i.e. bar chart, line chart, etc.), the chart can also be supplemented by a table as needed."
   ]
  },
  {
   "cell_type": "markdown",
   "metadata": {},
   "source": [
    "Calculating average arrival and departure delay through the day for Tuesday."
   ]
  },
  {
   "cell_type": "code",
   "execution_count": 43,
   "metadata": {},
   "outputs": [],
   "source": [
    "arrival_delays = air_travel.filter(\"ArrTime != 'NA'\").groupby('ArrTime', 'DayOfWeek').mean('ArrDelay')\n",
    "arrival_delays = arrival_delays.filter('DayOfWeek == 2').withColumn('ArrTime', arrival_delays.ArrTime.cast('int').cast('int')).orderBy('ArrTime').toPandas()\n",
    "arrival_delays['minutes'] = range(1, len(arrival_delays)+1)\n",
    "arrival_delays['hours'] = arrival_delays['minutes']//60\n",
    "arrival_delays = arrival_delays.groupby('hours').mean()[['avg(ArrDelay)']]"
   ]
  },
  {
   "cell_type": "code",
   "execution_count": 44,
   "metadata": {},
   "outputs": [
    {
     "data": {
      "text/plain": [
       "Text(0.5, 1.0, 'Tuesday')"
      ]
     },
     "execution_count": 44,
     "metadata": {},
     "output_type": "execute_result"
    },
    {
     "data": {
      "image/png": "[encoded data removed]",
      "text/plain": [
       "<Figure size 432x288 with 1 Axes>"
      ]
     },
     "metadata": {
      "needs_background": "light"
     },
     "output_type": "display_data"
    }
   ],
   "source": [
    "plt.bar(range(1, 25), arrival_delays.iloc[:-1]['avg(ArrDelay)'].values)\n",
    "plt.ylabel('Average Delay')\n",
    "plt.xlabel('Hours')\n",
    "plt.title('Tuesday')"
   ]
  },
  {
   "cell_type": "code",
   "execution_count": 45,
   "metadata": {},
   "outputs": [],
   "source": [
    "departure_delays = air_travel.filter(\"DepTime != 'NA'\").groupby('DepTime', 'DayOfWeek').mean('DepDelay')\n",
    "departure_delays = departure_delays.filter('DayOfWeek == 2').withColumn('DepTime', departure_delays.DepTime.cast('int').cast('int')).orderBy('DepTime').toPandas()\n",
    "departure_delays['minutes'] = range(1, len(departure_delays)+1)\n",
    "departure_delays['hours'] = departure_delays['minutes']//60\n",
    "departure_delays = departure_delays.groupby('hours').mean()[['avg(DepDelay)']]"
   ]
  },
  {
   "cell_type": "code",
   "execution_count": 46,
   "metadata": {},
   "outputs": [
    {
     "data": {
      "text/plain": [
       "Text(0.5, 1.0, 'Tuesday')"
      ]
     },
     "execution_count": 46,
     "metadata": {},
     "output_type": "execute_result"
    },
    {
     "data": {
      "image/png": "[encoded data removed]",
      "text/plain": [
       "<Figure size 432x288 with 1 Axes>"
      ]
     },
     "metadata": {
      "needs_background": "light"
     },
     "output_type": "display_data"
    }
   ],
   "source": [
    "plt.bar(range(1, 25), departure_delays['avg(DepDelay)'].values)\n",
    "plt.ylabel('Average Delay')\n",
    "plt.xlabel('Hours')\n",
    "plt.title('Tuesday')"
   ]
  },
  {
   "cell_type": "markdown",
   "metadata": {},
   "source": [
    "Significant delays occur during 12am to 5 am. Also, based on the earlier question eventhough the number of flights are lesser between 12am and 5am, the delays associated with these flighs are significantly higher than the remaining flights."
   ]
  },
  {
   "cell_type": "code",
   "execution_count": null,
   "metadata": {},
   "outputs": [],
   "source": []
  }
 ],
 "metadata": {
  "kernelspec": {
   "display_name": "Python 3",
   "language": "python",
   "name": "python3"
  },
  "language_info": {
   "codemirror_mode": {
    "name": "ipython",
    "version": 3
   },
   "file_extension": ".py",
   "mimetype": "text/x-python",
   "name": "python",
   "nbconvert_exporter": "python",
   "pygments_lexer": "ipython3",
   "version": "3.7.6"
  }
 },
 "nbformat": 4,
 "nbformat_minor": 4
}
