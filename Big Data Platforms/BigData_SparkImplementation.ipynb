{
 "cells": [
  {
   "cell_type": "markdown",
   "metadata": {},
   "source": [
    "### Re-do your \"BDP Assignment 3\" using Jupyter Notebooks and Spark RDD\n"
   ]
  },
  {
   "cell_type": "markdown",
   "metadata": {},
   "source": [
    "You have zip file loaded into /project2/msca/kadochnikov/data/Municipal_Court_Caseload_Information.zip in Linux environment, representing the caseload for Austin municipal courts."
   ]
  },
  {
   "cell_type": "code",
   "execution_count": 1,
   "metadata": {},
   "outputs": [
    {
     "name": "stdout",
     "output_type": "stream",
     "text": [
      "3.0.1\n"
     ]
    }
   ],
   "source": [
    "# ensuring I am using the right kernel\n",
    "print (sc.version)"
   ]
  },
  {
   "cell_type": "code",
   "execution_count": 2,
   "metadata": {},
   "outputs": [],
   "source": [
    "# imports\n",
    "from itertools import islice"
   ]
  },
  {
   "cell_type": "markdown",
   "metadata": {},
   "source": [
    "### 1. Copy the file into your own directory on Linux server"
   ]
  },
  {
   "cell_type": "code",
   "execution_count": 3,
   "metadata": {},
   "outputs": [
    {
     "name": "stdout",
     "output_type": "stream",
     "text": [
      "-rwxr-xr-x 1 kadochnikov kadochnikov 94212181 Apr 16  2015 /project2/msca/kadochnikov/data/Municipal_Court_Caseload_Information.zip\r\n"
     ]
    }
   ],
   "source": [
    "# checking the file is present at the specified location\n",
    "!ls -l /project2/msca/kadochnikov/data/Municipal_Court_Caseload_Information.zip"
   ]
  },
  {
   "cell_type": "code",
   "execution_count": 4,
   "metadata": {},
   "outputs": [],
   "source": [
    "# copying the file into my own directory\n",
    "!cp /project2/msca/kadochnikov/data/Municipal_Court_Caseload_Information.zip /project2/msca/bharadwajk"
   ]
  },
  {
   "cell_type": "code",
   "execution_count": 5,
   "metadata": {},
   "outputs": [
    {
     "name": "stdout",
     "output_type": "stream",
     "text": [
      "-rwxr-xr-x 1 bharadwajk msca 94212181 Feb 11 23:29 /project2/msca/bharadwajk/Municipal_Court_Caseload_Information.zip\r\n"
     ]
    }
   ],
   "source": [
    "# checking if copied\n",
    "!ls -l /project2/msca/bharadwajk/Municipal_Court_Caseload_Information.zip"
   ]
  },
  {
   "cell_type": "markdown",
   "metadata": {},
   "source": [
    "### 2. Unzip the file\n"
   ]
  },
  {
   "cell_type": "code",
   "execution_count": 11,
   "metadata": {},
   "outputs": [
    {
     "name": "stdout",
     "output_type": "stream",
     "text": [
      "Archive:  /project2/msca/bharadwajk/Municipal_Court_Caseload_Information.zip\n",
      "  inflating: /project2/msca/bharadwajk/Municipal_Court_Caseload_Information.csv  \n"
     ]
    }
   ],
   "source": [
    "# unzipping the file\n",
    "!unzip /project2/msca/bharadwajk/Municipal_Court_Caseload_Information.zip -d /project2/msca/bharadwajk/ "
   ]
  },
  {
   "cell_type": "code",
   "execution_count": 8,
   "metadata": {},
   "outputs": [
    {
     "name": "stdout",
     "output_type": "stream",
     "text": [
      "-rw-rw-r-- 1 bharadwajk msca 877080187 Apr 16  2015 /project2/msca/bharadwajk/Municipal_Court_Caseload_Information.csv\r\n"
     ]
    }
   ],
   "source": [
    "# checking if unzipped file present in my linux directory\n",
    "!ls -l /project2/msca/bharadwajk/Municipal_Court_Caseload_Information.csv"
   ]
  },
  {
   "cell_type": "markdown",
   "metadata": {},
   "source": [
    "### 3. Read the data into Spark RDD"
   ]
  },
  {
   "cell_type": "code",
   "execution_count": 28,
   "metadata": {},
   "outputs": [
    {
     "name": "stdout",
     "output_type": "stream",
     "text": [
      "8485777\n"
     ]
    }
   ],
   "source": [
    "# reading the data into RDD\n",
    "Municipal_Court_Caseload_Information_RDD = sc.textFile(\"file:////project2/msca/bharadwajk/Municipal_Court_Caseload_Information.csv\")\n",
    "print(Municipal_Court_Caseload_Information_RDD.count())"
   ]
  },
  {
   "cell_type": "code",
   "execution_count": 27,
   "metadata": {},
   "outputs": [
    {
     "data": {
      "text/plain": [
       "['Offense Case Type,Offense Date,Offense Time,Offense Charge Description,Offense Street Name,Offense Cross Street Check , Offense Cross Street,School Zone,Construction Zone,Case Closed',\n",
       " 'TR,04/29/2010 07:00:00 AM +0000,22.40.00,FAILED TO MAINTAIN FINANCIAL RESPONSIBILITY,8000 BLOCK RESEARCH,N, ,N,N,Y',\n",
       " 'TR,04/29/2010 07:00:00 AM +0000,22.40.00,FAILURE TO SIGNAL INTENT TO CHANGE LANES,8000 BLOCK RESEARCH,N, ,N,N,Y',\n",
       " 'TR,04/29/2010 07:00:00 AM +0000,20.00.00,SPEEDING-STATE HIGHWAYS,1000 BLOCK NORTH U S 183,N, ,N,N,Y',\n",
       " 'TR,04/29/2010 07:00:00 AM +0000,20.00.00,NO SEAT BELT-DRIVER/PASSENGER,1000 BLOCK NORTH U S 183,N, ,N,N,Y']"
      ]
     },
     "execution_count": 27,
     "metadata": {},
     "output_type": "execute_result"
    }
   ],
   "source": [
    "# checking the first 5 records\n",
    "Municipal_Court_Caseload_Information_RDD.take(5)"
   ]
  },
  {
   "cell_type": "markdown",
   "metadata": {},
   "source": [
    "### 4. Ensure you process the header record correctly"
   ]
  },
  {
   "cell_type": "code",
   "execution_count": 11,
   "metadata": {},
   "outputs": [
    {
     "data": {
      "text/plain": [
       "8485776"
      ]
     },
     "execution_count": 11,
     "metadata": {},
     "output_type": "execute_result"
    }
   ],
   "source": [
    "# using the filter transformation to return a new RDD without header\n",
    "MCC_Information_RDD = Municipal_Court_Caseload_Information_RDD.mapPartitionsWithIndex(lambda i, iter: islice(iter, 1, None) if i == 0 else iter)\n",
    "MCC_Information_RDD.count()"
   ]
  },
  {
   "cell_type": "code",
   "execution_count": 12,
   "metadata": {},
   "outputs": [
    {
     "data": {
      "text/plain": [
       "['TR,04/29/2010 07:00:00 AM +0000,22.40.00,FAILED TO MAINTAIN FINANCIAL RESPONSIBILITY,8000 BLOCK RESEARCH,N, ,N,N,Y',\n",
       " 'TR,04/29/2010 07:00:00 AM +0000,22.40.00,FAILURE TO SIGNAL INTENT TO CHANGE LANES,8000 BLOCK RESEARCH,N, ,N,N,Y',\n",
       " 'TR,04/29/2010 07:00:00 AM +0000,20.00.00,SPEEDING-STATE HIGHWAYS,1000 BLOCK NORTH U S 183,N, ,N,N,Y',\n",
       " 'TR,04/29/2010 07:00:00 AM +0000,20.00.00,NO SEAT BELT-DRIVER/PASSENGER,1000 BLOCK NORTH U S 183,N, ,N,N,Y',\n",
       " 'TR,04/29/2010 07:00:00 AM +0000,23.45.00,SPEEDING - STATE HIGHWAYS - Less than 10% over limit,1000 BLOCK RESEARCH,N, ,N,N,Y']"
      ]
     },
     "execution_count": 12,
     "metadata": {},
     "output_type": "execute_result"
    }
   ],
   "source": [
    "# checking the first 5 records\n",
    "MCC_Information_RDD.take(5)"
   ]
  },
  {
   "cell_type": "markdown",
   "metadata": {},
   "source": [
    "### 5. Calculate frequency of offenses by Offense Case Type"
   ]
  },
  {
   "cell_type": "markdown",
   "metadata": {},
   "source": [
    "Creating an RDD having only the Offense Case Type information"
   ]
  },
  {
   "cell_type": "code",
   "execution_count": 23,
   "metadata": {},
   "outputs": [
    {
     "data": {
      "text/plain": [
       "['TR', 'TR', 'TR', 'TR', 'TR', 'PK', 'PK', 'PK', 'PK', 'PK']"
      ]
     },
     "execution_count": 23,
     "metadata": {},
     "output_type": "execute_result"
    }
   ],
   "source": [
    "# RDD only having Offense Case Type information\n",
    "# Offense Case Type is the first column in the dataset\n",
    "MCC_Information_OCT = MCC_Information_RDD.map(lambda s: s.split(\",\")[0])\n",
    "MCC_Information_OCT.take(10)"
   ]
  },
  {
   "cell_type": "markdown",
   "metadata": {},
   "source": [
    "Replacing each original value in the input RDD with a 2-tuple containing the value of Offense Case Type in the first position and the integer value 1 in the second position"
   ]
  },
  {
   "cell_type": "code",
   "execution_count": 24,
   "metadata": {},
   "outputs": [
    {
     "data": {
      "text/plain": [
       "[('TR', 1),\n",
       " ('TR', 1),\n",
       " ('TR', 1),\n",
       " ('TR', 1),\n",
       " ('TR', 1),\n",
       " ('PK', 1),\n",
       " ('PK', 1),\n",
       " ('PK', 1),\n",
       " ('PK', 1),\n",
       " ('PK', 1)]"
      ]
     },
     "execution_count": 24,
     "metadata": {},
     "output_type": "execute_result"
    }
   ],
   "source": [
    "# mapping\n",
    "MCC_Information_OCT_mapped = MCC_Information_OCT.map(lambda x: (x, 1))\n",
    "\n",
    "# checking first few items in tuple\n",
    "MCC_Information_OCT_mapped.take(10)"
   ]
  },
  {
   "cell_type": "markdown",
   "metadata": {},
   "source": [
    "Offese case type is the key word and lambda function will sum up the word counts for each word.\n",
    "\n",
    "The first element in the tuple is the Offense Case Type and the second element is the frequency of that particular offense."
   ]
  },
  {
   "cell_type": "code",
   "execution_count": 16,
   "metadata": {},
   "outputs": [
    {
     "data": {
      "text/plain": [
       "[('TR', 4313221),\n",
       " ('PK', 3388981),\n",
       " ('CM', 319078),\n",
       " ('CO', 240308),\n",
       " ('RL', 224188)]"
      ]
     },
     "execution_count": 16,
     "metadata": {},
     "output_type": "execute_result"
    }
   ],
   "source": [
    "# reducing by key\n",
    "MCC_Information_OCT_reduced = MCC_Information_OCT_mapped.reduceByKey(lambda x,y:x+y)\n",
    "\n",
    "# checking the results\n",
    "MCC_Information_OCT_reduced.take(5)"
   ]
  },
  {
   "cell_type": "markdown",
   "metadata": {},
   "source": [
    "### 6. Identify the most frequent offenses by Offense Charge Description (Show Offense Charge Description and offense frequency count in descending order)"
   ]
  },
  {
   "cell_type": "code",
   "execution_count": 17,
   "metadata": {},
   "outputs": [
    {
     "data": {
      "text/plain": [
       "['FAILED TO MAINTAIN FINANCIAL RESPONSIBILITY',\n",
       " 'FAILURE TO SIGNAL INTENT TO CHANGE LANES',\n",
       " 'SPEEDING-STATE HIGHWAYS',\n",
       " 'NO SEAT BELT-DRIVER/PASSENGER',\n",
       " 'SPEEDING - STATE HIGHWAYS - Less than 10% over limit',\n",
       " 'PAY STATION RECEIPT NOT DISPLAYED',\n",
       " 'EXPIRED PAY STATION RECEIPT',\n",
       " 'EXPIRED PAY STATION RECEIPT',\n",
       " 'EXPIRED PAY STATION RECEIPT',\n",
       " 'PAY STATION RECEIPT NOT DISPLAYED']"
      ]
     },
     "execution_count": 17,
     "metadata": {},
     "output_type": "execute_result"
    }
   ],
   "source": [
    "# creating RDD only having Offense Charge Description information\n",
    "# Offense Case Type is the 4th column in the dataset\n",
    "MCC_Information_OCD = MCC_Information_RDD.map(lambda s: s.split(\",\")[3])\n",
    "MCC_Information_OCD.take(10)"
   ]
  },
  {
   "cell_type": "code",
   "execution_count": 18,
   "metadata": {},
   "outputs": [
    {
     "data": {
      "text/plain": [
       "[('FAILED TO MAINTAIN FINANCIAL RESPONSIBILITY', 1),\n",
       " ('FAILURE TO SIGNAL INTENT TO CHANGE LANES', 1),\n",
       " ('SPEEDING-STATE HIGHWAYS', 1),\n",
       " ('NO SEAT BELT-DRIVER/PASSENGER', 1),\n",
       " ('SPEEDING - STATE HIGHWAYS - Less than 10% over limit', 1),\n",
       " ('PAY STATION RECEIPT NOT DISPLAYED', 1),\n",
       " ('EXPIRED PAY STATION RECEIPT', 1),\n",
       " ('EXPIRED PAY STATION RECEIPT', 1),\n",
       " ('EXPIRED PAY STATION RECEIPT', 1),\n",
       " ('PAY STATION RECEIPT NOT DISPLAYED', 1)]"
      ]
     },
     "execution_count": 18,
     "metadata": {},
     "output_type": "execute_result"
    }
   ],
   "source": [
    "#mapping\n",
    "MCC_Information_OCD_mapped = MCC_Information_OCD.map(lambda x: (x, 1))\n",
    "\n",
    "# checking first few items in tuple\n",
    "MCC_Information_OCD_mapped.take(10)"
   ]
  },
  {
   "cell_type": "code",
   "execution_count": 19,
   "metadata": {},
   "outputs": [
    {
     "data": {
      "text/plain": [
       "[('BICYCLE - RAN RED LIGHT', 2397),\n",
       " ('RAN RED LIGHT', 157783),\n",
       " ('CMV - UNSAFE CONDITION-396 3 A 1', 509),\n",
       " ('PARKING - SIDEWALK AREA', 9918),\n",
       " ('CAMPING IN A PUBLIC AREA', 12144)]"
      ]
     },
     "execution_count": 19,
     "metadata": {},
     "output_type": "execute_result"
    }
   ],
   "source": [
    "# reducing by key\n",
    "MCC_Information_OCD_reduced = MCC_Information_OCD_mapped.reduceByKey(lambda x,y:x+y)\n",
    "\n",
    "# checking the results\n",
    "MCC_Information_OCD_reduced.take(5)"
   ]
  },
  {
   "cell_type": "markdown",
   "metadata": {},
   "source": [
    "The key in the tuple is Offense Charge Description and value is the frequency of that particular offense.\n",
    "\n",
    "For the most frequent Offense Charge Description, in descending order of frequencies. The key will be the frequency and value will be Offense Charge Description.\n",
    "\n",
    "Also, we have to swap the tuple data first."
   ]
  },
  {
   "cell_type": "code",
   "execution_count": 25,
   "metadata": {},
   "outputs": [
    {
     "data": {
      "text/plain": [
       "[(2397, 'BICYCLE - RAN RED LIGHT'),\n",
       " (157783, 'RAN RED LIGHT'),\n",
       " (509, 'CMV - UNSAFE CONDITION-396 3 A 1'),\n",
       " (9918, 'PARKING - SIDEWALK AREA'),\n",
       " (12144, 'CAMPING IN A PUBLIC AREA'),\n",
       " (3042, 'SEATBELT - PASSENGER'),\n",
       " (3266, 'ALCOHOL - SELLING/POSSESSING IN PROHIBITED AREA'),\n",
       " (2820, 'PARKING - DOUBLE PARKED'),\n",
       " (43, 'MOTOR VEHICLE INSPECTION VIOLATION'),\n",
       " (6866, 'CROSSING PROPERTY TO TURN RIGHT OR LEFT')]"
      ]
     },
     "execution_count": 25,
     "metadata": {},
     "output_type": "execute_result"
    }
   ],
   "source": [
    "# swapping the elements\n",
    "MCC_Information_OCD_swapped = MCC_Information_OCD_reduced.map(lambda x:(x[1],x[0]))\n",
    "\n",
    "# checking the first few items in tuple\n",
    "MCC_Information_OCD_swapped.take(10)"
   ]
  },
  {
   "cell_type": "markdown",
   "metadata": {},
   "source": [
    "Sorting by key\n"
   ]
  },
  {
   "cell_type": "code",
   "execution_count": 26,
   "metadata": {},
   "outputs": [
    {
     "data": {
      "text/plain": [
       "[(892013, 'PAY STATION RECEIPT NOT DISPLAYED'),\n",
       " (732605, 'EXPIRED PAY STATION RECEIPT'),\n",
       " (486576, 'SPEEDING-STATE HIGHWAYS'),\n",
       " (372339, 'NO DRIVERS LICENSE'),\n",
       " (345162, 'SPEEDING - POSTED CITY STREET'),\n",
       " (337672, 'FAILED TO MAINTAIN FINANCIAL RESPONSIBILITY'),\n",
       " (310816, 'PARKING - EXPIRED METER'),\n",
       " (287570, 'SPEEDING - STATE HIGHWAY'),\n",
       " (260662, 'FAIL TO MAINTAIN FINANCIAL RESP'),\n",
       " (238168, 'TOW AWAY ZONE NO PARKING AREA')]"
      ]
     },
     "execution_count": 26,
     "metadata": {},
     "output_type": "execute_result"
    }
   ],
   "source": [
    "# sorting by key\n",
    "MCC_Information_OCD_sorted = MCC_Information_OCD_swapped.sortByKey(ascending=False)\n",
    "\n",
    "# checking the results\n",
    "MCC_Information_OCD_sorted.take(10)"
   ]
  },
  {
   "cell_type": "markdown",
   "metadata": {},
   "source": []
  }
 ],
 "metadata": {
  "kernelspec": {
   "display_name": "Python 3",
   "language": "python",
   "name": "python3"
  },
  "language_info": {
   "codemirror_mode": {
    "name": "ipython",
    "version": 3
   },
   "file_extension": ".py",
   "mimetype": "text/x-python",
   "name": "python",
   "nbconvert_exporter": "python",
   "pygments_lexer": "ipython3",
   "version": "3.7.6"
  }
 },
 "nbformat": 4,
 "nbformat_minor": 4
}