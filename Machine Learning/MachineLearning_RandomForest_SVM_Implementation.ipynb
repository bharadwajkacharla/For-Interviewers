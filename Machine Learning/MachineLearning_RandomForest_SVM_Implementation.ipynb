{
 "cells": [
  {
   "cell_type": "markdown",
   "metadata": {},
   "source": [
    "# Machine Learning Assignment - 5"
   ]
  },
  {
   "cell_type": "code",
   "execution_count": 1,
   "metadata": {},
   "outputs": [],
   "source": [
    "#Importing packages\n",
    "import pandas as pd\n",
    "import numpy as np\n",
    "import seaborn as sns\n",
    "import matplotlib.pyplot as plt\n",
    "from sklearn.ensemble import RandomForestClassifier\n",
    "from sklearn.model_selection import RandomizedSearchCV\n",
    "from sklearn.preprocessing import StandardScaler\n",
    "from sklearn import svm\n",
    "from sklearn.metrics import confusion_matrix, classification_report\n",
    "from sklearn.metrics import roc_auc_score\n",
    "from sklearn.model_selection import GridSearchCV\n",
    "%matplotlib inline"
   ]
  },
  {
   "cell_type": "markdown",
   "metadata": {},
   "source": [
    "## 1. Data Processing:\n"
   ]
  },
  {
   "cell_type": "markdown",
   "metadata": {},
   "source": [
    "### a) Import the data: You are provided separate .csv files for train and test.\n",
    "\n",
    "Train shape: (507, 148)\n",
    "Test shape: (168, 148)\n"
   ]
  },
  {
   "cell_type": "code",
   "execution_count": 2,
   "metadata": {},
   "outputs": [
    {
     "name": "stdout",
     "output_type": "stream",
     "text": [
      "Train shape: (507, 148)\n",
      "Test shape: (168, 148)\n"
     ]
    }
   ],
   "source": [
    "train = pd.read_csv('train_data.csv')\n",
    "test  = pd.read_csv('test_data.csv')\n",
    "print('Train shape:',train.shape)\n",
    "print('Test shape:',test.shape)"
   ]
  },
  {
   "cell_type": "code",
   "execution_count": 3,
   "metadata": {},
   "outputs": [
    {
     "data": {
      "text/html": [
       "<div>\n",
       "<style scoped>\n",
       "    .dataframe tbody tr th:only-of-type {\n",
       "        vertical-align: middle;\n",
       "    }\n",
       "\n",
       "    .dataframe tbody tr th {\n",
       "        vertical-align: top;\n",
       "    }\n",
       "\n",
       "    .dataframe thead th {\n",
       "        text-align: right;\n",
       "    }\n",
       "</style>\n",
       "<table border=\"1\" class=\"dataframe\">\n",
       "  <thead>\n",
       "    <tr style=\"text-align: right;\">\n",
       "      <th></th>\n",
       "      <th>class</th>\n",
       "      <th>BrdIndx</th>\n",
       "      <th>Area</th>\n",
       "      <th>Round</th>\n",
       "      <th>Bright</th>\n",
       "      <th>Compact</th>\n",
       "      <th>ShpIndx</th>\n",
       "      <th>Mean_G</th>\n",
       "      <th>Mean_R</th>\n",
       "      <th>Mean_NIR</th>\n",
       "      <th>...</th>\n",
       "      <th>SD_NIR_140</th>\n",
       "      <th>LW_140</th>\n",
       "      <th>GLCM1_140</th>\n",
       "      <th>Rect_140</th>\n",
       "      <th>GLCM2_140</th>\n",
       "      <th>Dens_140</th>\n",
       "      <th>Assym_140</th>\n",
       "      <th>NDVI_140</th>\n",
       "      <th>BordLngth_140</th>\n",
       "      <th>GLCM3_140</th>\n",
       "    </tr>\n",
       "  </thead>\n",
       "  <tbody>\n",
       "    <tr>\n",
       "      <th>0</th>\n",
       "      <td>concrete</td>\n",
       "      <td>1.32</td>\n",
       "      <td>131</td>\n",
       "      <td>0.81</td>\n",
       "      <td>222.74</td>\n",
       "      <td>1.66</td>\n",
       "      <td>2.18</td>\n",
       "      <td>192.94</td>\n",
       "      <td>235.11</td>\n",
       "      <td>240.15</td>\n",
       "      <td>...</td>\n",
       "      <td>31.15</td>\n",
       "      <td>5.04</td>\n",
       "      <td>0.80</td>\n",
       "      <td>0.58</td>\n",
       "      <td>8.56</td>\n",
       "      <td>0.82</td>\n",
       "      <td>0.98</td>\n",
       "      <td>-0.10</td>\n",
       "      <td>1512</td>\n",
       "      <td>1287.52</td>\n",
       "    </tr>\n",
       "    <tr>\n",
       "      <th>1</th>\n",
       "      <td>shadow</td>\n",
       "      <td>1.59</td>\n",
       "      <td>864</td>\n",
       "      <td>0.94</td>\n",
       "      <td>47.56</td>\n",
       "      <td>1.41</td>\n",
       "      <td>1.87</td>\n",
       "      <td>36.82</td>\n",
       "      <td>48.78</td>\n",
       "      <td>57.09</td>\n",
       "      <td>...</td>\n",
       "      <td>12.01</td>\n",
       "      <td>3.70</td>\n",
       "      <td>0.52</td>\n",
       "      <td>0.96</td>\n",
       "      <td>7.01</td>\n",
       "      <td>1.69</td>\n",
       "      <td>0.86</td>\n",
       "      <td>-0.14</td>\n",
       "      <td>196</td>\n",
       "      <td>2659.74</td>\n",
       "    </tr>\n",
       "    <tr>\n",
       "      <th>2</th>\n",
       "      <td>shadow</td>\n",
       "      <td>1.41</td>\n",
       "      <td>409</td>\n",
       "      <td>1.00</td>\n",
       "      <td>51.38</td>\n",
       "      <td>1.37</td>\n",
       "      <td>1.53</td>\n",
       "      <td>41.72</td>\n",
       "      <td>51.96</td>\n",
       "      <td>60.48</td>\n",
       "      <td>...</td>\n",
       "      <td>18.75</td>\n",
       "      <td>3.09</td>\n",
       "      <td>0.90</td>\n",
       "      <td>0.63</td>\n",
       "      <td>8.32</td>\n",
       "      <td>1.38</td>\n",
       "      <td>0.84</td>\n",
       "      <td>0.10</td>\n",
       "      <td>1198</td>\n",
       "      <td>720.38</td>\n",
       "    </tr>\n",
       "    <tr>\n",
       "      <th>3</th>\n",
       "      <td>tree</td>\n",
       "      <td>2.58</td>\n",
       "      <td>187</td>\n",
       "      <td>1.91</td>\n",
       "      <td>70.08</td>\n",
       "      <td>3.41</td>\n",
       "      <td>3.11</td>\n",
       "      <td>93.13</td>\n",
       "      <td>55.20</td>\n",
       "      <td>61.92</td>\n",
       "      <td>...</td>\n",
       "      <td>27.67</td>\n",
       "      <td>6.33</td>\n",
       "      <td>0.89</td>\n",
       "      <td>0.70</td>\n",
       "      <td>8.56</td>\n",
       "      <td>1.10</td>\n",
       "      <td>0.96</td>\n",
       "      <td>0.20</td>\n",
       "      <td>524</td>\n",
       "      <td>891.36</td>\n",
       "    </tr>\n",
       "    <tr>\n",
       "      <th>4</th>\n",
       "      <td>asphalt</td>\n",
       "      <td>2.60</td>\n",
       "      <td>116</td>\n",
       "      <td>2.05</td>\n",
       "      <td>89.57</td>\n",
       "      <td>3.06</td>\n",
       "      <td>3.02</td>\n",
       "      <td>73.17</td>\n",
       "      <td>94.89</td>\n",
       "      <td>100.64</td>\n",
       "      <td>...</td>\n",
       "      <td>32.05</td>\n",
       "      <td>1.01</td>\n",
       "      <td>0.83</td>\n",
       "      <td>0.75</td>\n",
       "      <td>8.62</td>\n",
       "      <td>2.08</td>\n",
       "      <td>0.08</td>\n",
       "      <td>-0.10</td>\n",
       "      <td>496</td>\n",
       "      <td>1194.76</td>\n",
       "    </tr>\n",
       "  </tbody>\n",
       "</table>\n",
       "<p>5 rows × 148 columns</p>\n",
       "</div>"
      ],
      "text/plain": [
       "       class  BrdIndx  Area  Round  Bright  Compact  ShpIndx  Mean_G  Mean_R  \\\n",
       "0  concrete      1.32   131   0.81  222.74     1.66     2.18  192.94  235.11   \n",
       "1    shadow      1.59   864   0.94   47.56     1.41     1.87   36.82   48.78   \n",
       "2    shadow      1.41   409   1.00   51.38     1.37     1.53   41.72   51.96   \n",
       "3      tree      2.58   187   1.91   70.08     3.41     3.11   93.13   55.20   \n",
       "4   asphalt      2.60   116   2.05   89.57     3.06     3.02   73.17   94.89   \n",
       "\n",
       "   Mean_NIR  ...  SD_NIR_140  LW_140  GLCM1_140  Rect_140  GLCM2_140  \\\n",
       "0    240.15  ...       31.15    5.04       0.80      0.58       8.56   \n",
       "1     57.09  ...       12.01    3.70       0.52      0.96       7.01   \n",
       "2     60.48  ...       18.75    3.09       0.90      0.63       8.32   \n",
       "3     61.92  ...       27.67    6.33       0.89      0.70       8.56   \n",
       "4    100.64  ...       32.05    1.01       0.83      0.75       8.62   \n",
       "\n",
       "   Dens_140  Assym_140  NDVI_140  BordLngth_140  GLCM3_140  \n",
       "0      0.82       0.98     -0.10           1512    1287.52  \n",
       "1      1.69       0.86     -0.14            196    2659.74  \n",
       "2      1.38       0.84      0.10           1198     720.38  \n",
       "3      1.10       0.96      0.20            524     891.36  \n",
       "4      2.08       0.08     -0.10            496    1194.76  \n",
       "\n",
       "[5 rows x 148 columns]"
      ]
     },
     "execution_count": 3,
     "metadata": {},
     "output_type": "execute_result"
    }
   ],
   "source": [
    "train.head()"
   ]
  },
  {
   "cell_type": "markdown",
   "metadata": {},
   "source": [
    "### b) Remove any rows that have missing data across both sets of data.\n"
   ]
  },
  {
   "cell_type": "code",
   "execution_count": 4,
   "metadata": {},
   "outputs": [
    {
     "name": "stdout",
     "output_type": "stream",
     "text": [
      "class            0\n",
      "BrdIndx          0\n",
      "Area             0\n",
      "Round            0\n",
      "Bright           0\n",
      "                ..\n",
      "Dens_140         0\n",
      "Assym_140        0\n",
      "NDVI_140         0\n",
      "BordLngth_140    0\n",
      "GLCM3_140        0\n",
      "Length: 148, dtype: int64\n"
     ]
    }
   ],
   "source": [
    "print(train.isnull().sum())"
   ]
  },
  {
   "cell_type": "code",
   "execution_count": 5,
   "metadata": {},
   "outputs": [
    {
     "name": "stdout",
     "output_type": "stream",
     "text": [
      "class            0\n",
      "BrdIndx          0\n",
      "Area             0\n",
      "Round            0\n",
      "Bright           0\n",
      "                ..\n",
      "Dens_140         0\n",
      "Assym_140        0\n",
      "NDVI_140         0\n",
      "BordLngth_140    0\n",
      "GLCM3_140        0\n",
      "Length: 148, dtype: int64\n"
     ]
    }
   ],
   "source": [
    "print(test.isnull().sum())"
   ]
  },
  {
   "cell_type": "markdown",
   "metadata": {},
   "source": [
    "Based on the above missing value report we can conclude that there are no missing values."
   ]
  },
  {
   "cell_type": "markdown",
   "metadata": {},
   "source": [
    "\n",
    "### c) The target variable (dependent variable) is called \"class\", make sure to separate this out into a \"y_train\" and \"y_test\" and remove from your \"X_train\" and \"X_test\". "
   ]
  },
  {
   "cell_type": "code",
   "execution_count": 6,
   "metadata": {},
   "outputs": [],
   "source": [
    "#Seperating the target variable and predictors\n",
    "y_train = train.iloc[:,0]\n",
    "X_train = train.iloc[:,1:]\n",
    "y_test  = test.iloc[:,0]\n",
    "X_test  = test.iloc[:,1:]"
   ]
  },
  {
   "cell_type": "markdown",
   "metadata": {},
   "source": [
    "### d) Scale all features / predictors (NOT THE TARGET VARIABLE)\n",
    "Feel free to use the sklearn tool \"StandardScaler\" - more info here: http://scikit-learn.org/stable/modules/generated/sklearn.preprocessing.StandardScaler.html (Links to an external site.)\n",
    "Note: We need to scale here due to SVM. Please refer to previous assignments if you have forgotten appropriate scaling."
   ]
  },
  {
   "cell_type": "code",
   "execution_count": 7,
   "metadata": {},
   "outputs": [],
   "source": [
    "#Scaling the X_train and X_test\n",
    "scaler = StandardScaler()\n",
    "scaler.fit(X_train)\n",
    "X_train_scaled = scaler.transform(X_train)\n",
    "scaler.fit(X_test)\n",
    "X_test_scaled = scaler.transform(X_test)"
   ]
  },
  {
   "cell_type": "markdown",
   "metadata": {},
   "source": [
    "## 2. Random Forest Classifier - Base Model:"
   ]
  },
  {
   "cell_type": "markdown",
   "metadata": {},
   "source": [
    "#### Start by creating a simple Random Forest only using default parameters - this will let us compare SVMs to Random Forest in multiclass problems.\n",
    "#### a) Use the RandomForestClassifier in sklearn. Fit your model on the training data.\n"
   ]
  },
  {
   "cell_type": "code",
   "execution_count": 8,
   "metadata": {},
   "outputs": [
    {
     "data": {
      "text/plain": [
       "RandomForestClassifier(random_state=20)"
      ]
     },
     "execution_count": 8,
     "metadata": {},
     "output_type": "execute_result"
    }
   ],
   "source": [
    "# Instantiate a random forests classifer\n",
    "rf = RandomForestClassifier(random_state=20,class_weight='balanced')\n",
    "# Fitting the data to the model\n",
    "rf.fit(X_train_scaled, y_train,clas)"
   ]
  },
  {
   "cell_type": "markdown",
   "metadata": {},
   "source": [
    "\n",
    "#### b) Use the fitted model to predict on test data. Use the .predict() method to get the predicted classes.\n",
    "\n"
   ]
  },
  {
   "cell_type": "code",
   "execution_count": 9,
   "metadata": {},
   "outputs": [],
   "source": [
    "#predicting the test data based on the trained model\n",
    "y_pred = rf.predict(X_test_scaled,clas)\n",
    "\n",
    "#predicting probabilities to calculate roc_auc scores\n",
    "y_test_pred_prob = rf.predict_proba(X_test)"
   ]
  },
  {
   "cell_type": "markdown",
   "metadata": {},
   "source": [
    "#### c) Calculate the confusion matrix and classification report for the test data. \n"
   ]
  },
  {
   "cell_type": "code",
   "execution_count": 10,
   "metadata": {},
   "outputs": [
    {
     "data": {
      "text/plain": [
       "array([[14,  0,  0,  0,  0,  0,  0,  0,  0],\n",
       "       [ 1, 19,  0,  4,  1,  0,  0,  0,  0],\n",
       "       [ 0,  1, 14,  0,  0,  0,  0,  0,  0],\n",
       "       [ 0,  2,  0, 20,  0,  0,  0,  1,  0],\n",
       "       [ 0,  0,  0,  0, 24,  0,  0,  0,  5],\n",
       "       [ 1,  0,  1,  0,  0, 13,  0,  0,  0],\n",
       "       [ 2,  0,  0,  0,  0,  0, 14,  0,  0],\n",
       "       [ 0,  1,  0,  5,  2,  0,  0,  6,  0],\n",
       "       [ 0,  0,  0,  1,  1,  0,  0,  0, 15]])"
      ]
     },
     "execution_count": 10,
     "metadata": {},
     "output_type": "execute_result"
    }
   ],
   "source": [
    "#Confusion matrix\n",
    "confusion_matrix(y_test,y_pred)"
   ]
  },
  {
   "cell_type": "code",
   "execution_count": 11,
   "metadata": {},
   "outputs": [
    {
     "name": "stdout",
     "output_type": "stream",
     "text": [
      "              precision    recall  f1-score   support\n",
      "\n",
      "    asphalt        0.78      1.00      0.88        14\n",
      "   building        0.83      0.76      0.79        25\n",
      "        car        0.93      0.93      0.93        15\n",
      "   concrete        0.67      0.87      0.75        23\n",
      "      grass        0.86      0.83      0.84        29\n",
      "       pool        1.00      0.87      0.93        15\n",
      "     shadow        1.00      0.88      0.93        16\n",
      "       soil        0.86      0.43      0.57        14\n",
      "       tree        0.75      0.88      0.81        17\n",
      "\n",
      "    accuracy                           0.83       168\n",
      "   macro avg       0.85      0.83      0.83       168\n",
      "weighted avg       0.84      0.83      0.82       168\n",
      "\n"
     ]
    }
   ],
   "source": [
    "#Classification report\n",
    "print(classification_report(y_test,y_pred))"
   ]
  },
  {
   "cell_type": "markdown",
   "metadata": {},
   "source": [
    "\n",
    "#### d)  Calculate predictions for the training data & build the classification report & confusion matrix. Are there signs of overfitting? Why or why not?\n",
    "\n"
   ]
  },
  {
   "cell_type": "code",
   "execution_count": 12,
   "metadata": {},
   "outputs": [
    {
     "name": "stdout",
     "output_type": "stream",
     "text": [
      "\t\t\t Confusion Matrix\n",
      "[[45  0  0  0  0  0  0  0  0]\n",
      " [ 0 97  0  0  0  0  0  0  0]\n",
      " [ 0  0 21  0  0  0  0  0  0]\n",
      " [ 0  0  0 93  0  0  0  0  0]\n",
      " [ 0  0  0  0 83  0  0  0  0]\n",
      " [ 0  0  0  0  0 14  0  0  0]\n",
      " [ 0  0  0  0  0  0 45  0  0]\n",
      " [ 0  0  0  0  0  0  0 20  0]\n",
      " [ 0  0  0  0  0  0  0  0 89]]\n",
      "\n",
      "\n",
      "\t\t\t Classification report\n",
      "              precision    recall  f1-score   support\n",
      "\n",
      "    asphalt        1.00      1.00      1.00        45\n",
      "   building        1.00      1.00      1.00        97\n",
      "        car        1.00      1.00      1.00        21\n",
      "   concrete        1.00      1.00      1.00        93\n",
      "      grass        1.00      1.00      1.00        83\n",
      "       pool        1.00      1.00      1.00        14\n",
      "     shadow        1.00      1.00      1.00        45\n",
      "       soil        1.00      1.00      1.00        20\n",
      "       tree        1.00      1.00      1.00        89\n",
      "\n",
      "    accuracy                           1.00       507\n",
      "   macro avg       1.00      1.00      1.00       507\n",
      "weighted avg       1.00      1.00      1.00       507\n",
      "\n"
     ]
    }
   ],
   "source": [
    "#predicting the classes based on train data\n",
    "y_train_pred = rf.predict(X_train_scaled)\n",
    "\n",
    "#confusion matrix\n",
    "print(\"\\t\\t\\t Confusion Matrix\")\n",
    "print(confusion_matrix(y_train,y_train_pred))\n",
    "print('\\n')\n",
    "\n",
    "print(\"\\t\\t\\t Classification report\")\n",
    "\n",
    "#classification report\n",
    "print(classification_report(y_train,y_train_pred))"
   ]
  },
  {
   "cell_type": "markdown",
   "metadata": {},
   "source": [
    "Based on the classification report of the train data we can observe that the model has generalized the data to the maximum extent and was able to predict the train data with 100% accuracy. So, based on the above metrics and the test metrics we can conclude that the **random forest with default parameters is overfitting**."
   ]
  },
  {
   "cell_type": "markdown",
   "metadata": {},
   "source": [
    "#### e) Identify the top 5 features. Feel free to print a list OR to make a plot. "
   ]
  },
  {
   "cell_type": "code",
   "execution_count": 13,
   "metadata": {},
   "outputs": [
    {
     "data": {
      "text/plain": [
       "array([0.00283965, 0.00708813, 0.00191604, 0.01351364, 0.00251535,\n",
       "       0.00180304, 0.02001479, 0.02601936, 0.02816106, 0.00556653])"
      ]
     },
     "execution_count": 13,
     "metadata": {},
     "output_type": "execute_result"
    }
   ],
   "source": [
    "#the important features deemed by the model\n",
    "rf.feature_importances_[:10,]"
   ]
  },
  {
   "cell_type": "code",
   "execution_count": 14,
   "metadata": {},
   "outputs": [
    {
     "data": {
      "text/plain": [
       "Index(['BrdIndx', 'Area', 'Round', 'Bright', 'Compact', 'ShpIndx', 'Mean_G',\n",
       "       'Mean_R', 'Mean_NIR', 'SD_G'],\n",
       "      dtype='object')"
      ]
     },
     "execution_count": 14,
     "metadata": {},
     "output_type": "execute_result"
    }
   ],
   "source": [
    "# Assigning the column names\n",
    "features = X_train.columns[:10,]\n",
    "features"
   ]
  },
  {
   "cell_type": "code",
   "execution_count": 15,
   "metadata": {},
   "outputs": [
    {
     "data": {
      "image/png": "[encoded data removed]",
      "text/plain": [
       "<Figure size 720x720 with 1 Axes>"
      ]
     },
     "metadata": {
      "needs_background": "light"
     },
     "output_type": "display_data"
    }
   ],
   "source": [
    "#Barplot to plot the features according to the importance\n",
    "plt.figure(figsize=(10,10))\n",
    "importance = rf.feature_importances_[:10,]\n",
    "indices = np.argsort(importance)\n",
    "plt.title('Variable feature importance')\n",
    "plt.barh(range(len(indices)), importance[indices], color='b', align='center')\n",
    "plt.yticks(range(len(indices)), [features[i] for i in indices])\n",
    "plt.xlabel('Relative Importance')\n",
    "plt.show()"
   ]
  },
  {
   "cell_type": "markdown",
   "metadata": {},
   "source": [
    "Based on the feature importance plot, the top 5 features are **Mean_NIR, Mean_R, Mean_G, Bright, Area**."
   ]
  },
  {
   "cell_type": "markdown",
   "metadata": {},
   "source": [
    "## 3. LinearSVM Classifier - Base Model:\n",
    "Create a simple LinearSVC Classifier only using default parameters."
   ]
  },
  {
   "cell_type": "markdown",
   "metadata": {},
   "source": [
    "\n",
    "### a) Use the LinearSVC in sklearn. Fit your model on the training data.\n"
   ]
  },
  {
   "cell_type": "code",
   "execution_count": 16,
   "metadata": {},
   "outputs": [
    {
     "data": {
      "text/plain": [
       "SVC(C=1, kernel='linear')"
      ]
     },
     "execution_count": 16,
     "metadata": {},
     "output_type": "execute_result"
    }
   ],
   "source": [
    "# Next lets try Linear SVM\n",
    "svc = svm.SVC(kernel='linear', C=1)\n",
    "#Fitting the data to the model\n",
    "svc.fit(X_train_scaled, y_train)"
   ]
  },
  {
   "cell_type": "markdown",
   "metadata": {},
   "source": [
    "### b) Use the fitted model to predict on test data. Use the .predict() method to get the predicted classes."
   ]
  },
  {
   "cell_type": "code",
   "execution_count": 17,
   "metadata": {},
   "outputs": [],
   "source": [
    "y_pred = svc.predict(X_test_scaled)"
   ]
  },
  {
   "cell_type": "markdown",
   "metadata": {},
   "source": [
    "### c) Calculate the confusion matrix and classification report for test data."
   ]
  },
  {
   "cell_type": "code",
   "execution_count": 18,
   "metadata": {},
   "outputs": [
    {
     "name": "stdout",
     "output_type": "stream",
     "text": [
      "\t\t\t Confusion Matrix\n",
      "[[13  0  0  0  0  0  1  0  0]\n",
      " [ 0 22  1  2  0  0  0  0  0]\n",
      " [ 0  0 13  1  0  0  0  1  0]\n",
      " [ 0  4  0 16  0  0  0  3  0]\n",
      " [ 0  0  0  1 22  0  0  0  6]\n",
      " [ 0  2  0  0  0 12  1  0  0]\n",
      " [ 1  0  0  0  0  0 15  0  0]\n",
      " [ 0  0  1  4  3  0  0  6  0]\n",
      " [ 0  0  0  1  1  0  0  0 15]]\n",
      "\n",
      "\n",
      "\t\t\t Classification report\n",
      "              precision    recall  f1-score   support\n",
      "\n",
      "    asphalt        0.93      0.93      0.93        14\n",
      "   building        0.79      0.88      0.83        25\n",
      "        car        0.87      0.87      0.87        15\n",
      "   concrete        0.64      0.70      0.67        23\n",
      "      grass        0.85      0.76      0.80        29\n",
      "       pool        1.00      0.80      0.89        15\n",
      "     shadow        0.88      0.94      0.91        16\n",
      "       soil        0.60      0.43      0.50        14\n",
      "       tree        0.71      0.88      0.79        17\n",
      "\n",
      "    accuracy                           0.80       168\n",
      "   macro avg       0.81      0.80      0.80       168\n",
      "weighted avg       0.80      0.80      0.80       168\n",
      "\n"
     ]
    }
   ],
   "source": [
    "#confusion matrix\n",
    "print(\"\\t\\t\\t Confusion Matrix\")\n",
    "print(confusion_matrix(y_test,y_pred))\n",
    "print('\\n')\n",
    "\n",
    "print(\"\\t\\t\\t Classification report\")\n",
    "\n",
    "#classification report\n",
    "print(classification_report(y_test,y_pred))"
   ]
  },
  {
   "cell_type": "markdown",
   "metadata": {},
   "source": [
    "The **precision** of the linear SVM model is **81%** and the **accuracy** is **80%**."
   ]
  },
  {
   "cell_type": "markdown",
   "metadata": {},
   "source": [
    "### d)  Calculate predictions for the training data & build the classification report & confusion matrix. Are there signs of overfitting? Why or why not?"
   ]
  },
  {
   "cell_type": "code",
   "execution_count": 19,
   "metadata": {},
   "outputs": [
    {
     "name": "stdout",
     "output_type": "stream",
     "text": [
      "\t\t\t Confusion Matrix\n",
      "[[45  0  0  0  0  0  0  0  0]\n",
      " [ 0 97  0  0  0  0  0  0  0]\n",
      " [ 0  0 21  0  0  0  0  0  0]\n",
      " [ 0  0  0 93  0  0  0  0  0]\n",
      " [ 0  0  0  0 83  0  0  0  0]\n",
      " [ 0  0  0  0  0 14  0  0  0]\n",
      " [ 0  0  0  0  0  0 45  0  0]\n",
      " [ 0  0  0  0  0  0  0 20  0]\n",
      " [ 0  0  0  0  0  0  0  0 89]]\n",
      "\n",
      "\n",
      "\t\t\t Classification report\n",
      "              precision    recall  f1-score   support\n",
      "\n",
      "    asphalt        1.00      1.00      1.00        45\n",
      "   building        1.00      1.00      1.00        97\n",
      "        car        1.00      1.00      1.00        21\n",
      "   concrete        1.00      1.00      1.00        93\n",
      "      grass        1.00      1.00      1.00        83\n",
      "       pool        1.00      1.00      1.00        14\n",
      "     shadow        1.00      1.00      1.00        45\n",
      "       soil        1.00      1.00      1.00        20\n",
      "       tree        1.00      1.00      1.00        89\n",
      "\n",
      "    accuracy                           1.00       507\n",
      "   macro avg       1.00      1.00      1.00       507\n",
      "weighted avg       1.00      1.00      1.00       507\n",
      "\n"
     ]
    }
   ],
   "source": [
    "#predicting the classes based on train data\n",
    "y_train_pred = svc.predict(X_train_scaled)\n",
    "\n",
    "#confusion matrix\n",
    "print(\"\\t\\t\\t Confusion Matrix\")\n",
    "print(confusion_matrix(y_train,y_train_pred))\n",
    "print('\\n')\n",
    "\n",
    "print(\"\\t\\t\\t Classification report\")\n",
    "\n",
    "#classification report\n",
    "print(classification_report(y_train,y_train_pred))"
   ]
  },
  {
   "cell_type": "markdown",
   "metadata": {},
   "source": [
    "Based on the classification report of the train data we can observe that the model has generalized the data to the maximum extent and was able to predict the train data with **100% accuracy**. So, based on the above metrics and the test metrics we can conclude that the random forest with default parameters is **overfitting**."
   ]
  },
  {
   "cell_type": "markdown",
   "metadata": {},
   "source": [
    "## 4. Support Vector Machine Classifier + Linear Kernel + Grid Search:"
   ]
  },
  {
   "cell_type": "markdown",
   "metadata": {},
   "source": [
    "We will now use GridSearchCV to try various hyperparameters in a SVM with linear kernel.\n",
    "\n",
    "### a) Use SVC from sklearn with kernel = \"linear\". Run the GridSearchCV using the following (SVMs run much faster than RandomForest):\n",
    "\n",
    "C: 0.01 - 10 in increments of 0.2 (consider using the np.arange() method from numpy to build out a sequence of values)\n",
    "\n",
    "Note: Feel free to try out more parameters, the above is the bare minimum for this assignment.\n",
    "\n",
    "Use 5 cross-fold and the default scoring. Please set verbose = 0 to reduce the printing (sorry to our grader for not specifying this last week!).\n",
    "\n"
   ]
  },
  {
   "cell_type": "code",
   "execution_count": 20,
   "metadata": {},
   "outputs": [],
   "source": [
    "param_grid = {'C': np.arange(0.01, 10, 0.2).tolist(),\n",
    "              'kernel': ['linear']} \n",
    "\n",
    "# create AdaBoost Classifier model \n",
    "svc = svm.SVC()\n",
    "\n",
    "# Use 5 cross-fold and for scoring use \"roc_auc\" \n",
    "svc_Grid = GridSearchCV(svc, param_grid, cv = 5,verbose=0)"
   ]
  },
  {
   "cell_type": "code",
   "execution_count": 21,
   "metadata": {},
   "outputs": [
    {
     "data": {
      "text/plain": [
       "GridSearchCV(cv=5, estimator=SVC(),\n",
       "             param_grid={'C': [0.01, 0.21000000000000002, 0.41000000000000003,\n",
       "                               0.6100000000000001, 0.81, 1.01,\n",
       "                               1.2100000000000002, 1.4100000000000001, 1.61,\n",
       "                               1.81, 2.01, 2.21, 2.41, 2.61, 2.81, 3.01, 3.21,\n",
       "                               3.41, 3.61, 3.81, 4.01, 4.21, 4.41, 4.61,\n",
       "                               4.8100000000000005, 5.01, 5.21, 5.41, 5.61,\n",
       "                               5.8100000000000005, ...],\n",
       "                         'kernel': ['linear']})"
      ]
     },
     "execution_count": 21,
     "metadata": {},
     "output_type": "execute_result"
    }
   ],
   "source": [
    "#fit our model to our train data\n",
    "svc_Grid.fit(X_train_scaled,y_train)"
   ]
  },
  {
   "cell_type": "markdown",
   "metadata": {},
   "source": [
    "#### b) Identify the best performing model:\n",
    "\n",
    ".best_params_() : This method outputs to best performing parameters  \n",
    ".best_estimator_() : This method outputs the best performing model, and can be used for predicting on the X_test\n"
   ]
  },
  {
   "cell_type": "code",
   "execution_count": 22,
   "metadata": {},
   "outputs": [
    {
     "data": {
      "text/plain": [
       "{'C': 0.01, 'kernel': 'linear'}"
      ]
     },
     "execution_count": 22,
     "metadata": {},
     "output_type": "execute_result"
    }
   ],
   "source": [
    "#best performing parameters\n",
    "svc_Grid.best_params_"
   ]
  },
  {
   "cell_type": "code",
   "execution_count": 23,
   "metadata": {},
   "outputs": [
    {
     "data": {
      "text/plain": [
       "SVC(C=0.01, kernel='linear')"
      ]
     },
     "execution_count": 23,
     "metadata": {},
     "output_type": "execute_result"
    }
   ],
   "source": [
    "#best performing model\n",
    "svc_Grid.best_estimator_"
   ]
  },
  {
   "cell_type": "markdown",
   "metadata": {},
   "source": [
    "### c) Use the best estimator model to predict on test data. Use the .predict() method to get the predicted classes.\n",
    "\n"
   ]
  },
  {
   "cell_type": "code",
   "execution_count": 24,
   "metadata": {},
   "outputs": [],
   "source": [
    "#Initializing the best estimator model\n",
    "svc_best = svm.SVC(C=0.01, kernel='linear')\n",
    "\n",
    "#Fitting the best fit model on train data\n",
    "svc_best.fit(X_train_scaled,y_train)\n",
    "\n",
    "#predicting the classes of test data\n",
    "y_pred = svc_best.predict(X_test_scaled)"
   ]
  },
  {
   "cell_type": "markdown",
   "metadata": {},
   "source": [
    "### d) Calculate the confusion matrix and classification report for test data.\n"
   ]
  },
  {
   "cell_type": "code",
   "execution_count": 25,
   "metadata": {},
   "outputs": [
    {
     "name": "stdout",
     "output_type": "stream",
     "text": [
      "\t\t\t Confusion Matrix\n",
      "[[13  0  0  0  0  0  1  0  0]\n",
      " [ 0 22  0  2  1  0  0  0  0]\n",
      " [ 0  1 14  0  0  0  0  0  0]\n",
      " [ 0  3  0 19  0  0  0  1  0]\n",
      " [ 0  0  0  1 25  0  0  0  3]\n",
      " [ 0  1  0  0  0 13  1  0  0]\n",
      " [ 3  0  0  0  0  0 13  0  0]\n",
      " [ 0  1  0  6  3  0  0  4  0]\n",
      " [ 0  0  0  1  0  0  0  0 16]]\n",
      "\n",
      "\n",
      "\t\t\t Classification report\n",
      "              precision    recall  f1-score   support\n",
      "\n",
      "    asphalt        0.81      0.93      0.87        14\n",
      "   building        0.79      0.88      0.83        25\n",
      "        car        1.00      0.93      0.97        15\n",
      "   concrete        0.66      0.83      0.73        23\n",
      "      grass        0.86      0.86      0.86        29\n",
      "       pool        1.00      0.87      0.93        15\n",
      "     shadow        0.87      0.81      0.84        16\n",
      "       soil        0.80      0.29      0.42        14\n",
      "       tree        0.84      0.94      0.89        17\n",
      "\n",
      "    accuracy                           0.83       168\n",
      "   macro avg       0.85      0.82      0.81       168\n",
      "weighted avg       0.84      0.83      0.82       168\n",
      "\n"
     ]
    }
   ],
   "source": [
    "#confusion matrix\n",
    "print(\"\\t\\t\\t Confusion Matrix\")\n",
    "print(confusion_matrix(y_test,y_pred))\n",
    "print('\\n')\n",
    "\n",
    "print(\"\\t\\t\\t Classification report\")\n",
    "\n",
    "#classification report\n",
    "print(classification_report(y_test,y_pred))"
   ]
  },
  {
   "cell_type": "markdown",
   "metadata": {},
   "source": [
    "The **precision** of the linear SVM model is **85%** and the **accuracy** is **83%**."
   ]
  },
  {
   "cell_type": "markdown",
   "metadata": {},
   "source": [
    "### e)  Calculate predictions for the training data & build the classification report & confusion matrix. Are there signs of overfitting? Why or why not?\n"
   ]
  },
  {
   "cell_type": "code",
   "execution_count": 26,
   "metadata": {},
   "outputs": [
    {
     "name": "stdout",
     "output_type": "stream",
     "text": [
      "\t\t\t Confusion Matrix\n",
      "[[40  0  0  0  0  0  5  0  0]\n",
      " [ 2 87  0  7  0  0  1  0  0]\n",
      " [ 0  1 19  1  0  0  0  0  0]\n",
      " [ 0  9  0 83  1  0  0  0  0]\n",
      " [ 0  1  0  0 70  0  0  0 12]\n",
      " [ 0  1  0  0  1 12  0  0  0]\n",
      " [ 1  0  0  0  0  0 43  0  1]\n",
      " [ 0  3  0  4  2  0  0 11  0]\n",
      " [ 0  0  0  0  3  0  1  0 85]]\n",
      "\n",
      "\n",
      "\t\t\t Classification report\n",
      "              precision    recall  f1-score   support\n",
      "\n",
      "    asphalt        0.93      0.89      0.91        45\n",
      "   building        0.85      0.90      0.87        97\n",
      "        car        1.00      0.90      0.95        21\n",
      "   concrete        0.87      0.89      0.88        93\n",
      "      grass        0.91      0.84      0.88        83\n",
      "       pool        1.00      0.86      0.92        14\n",
      "     shadow        0.86      0.96      0.91        45\n",
      "       soil        1.00      0.55      0.71        20\n",
      "       tree        0.87      0.96      0.91        89\n",
      "\n",
      "    accuracy                           0.89       507\n",
      "   macro avg       0.92      0.86      0.88       507\n",
      "weighted avg       0.89      0.89      0.89       507\n",
      "\n"
     ]
    }
   ],
   "source": [
    "#predicting the classes based on train data\n",
    "y_train_pred = svc_best.predict(X_train_scaled)\n",
    "\n",
    "#confusion matrix\n",
    "print(\"\\t\\t\\t Confusion Matrix\")\n",
    "print(confusion_matrix(y_train,y_train_pred))\n",
    "print('\\n')\n",
    "\n",
    "print(\"\\t\\t\\t Classification report\")\n",
    "\n",
    "#classification report\n",
    "print(classification_report(y_train,y_train_pred))"
   ]
  },
  {
   "cell_type": "markdown",
   "metadata": {},
   "source": [
    "Based on the classification report of the train data we can observe that the model is **not over fitting**.\n",
    "\n",
    "One of the conditions for overfitting is that the train error is too large than the test error. In this Linear SVM classifier with GridSearchCV the training error is greater than the test error, however, it's not that large to be termed as overfitting. "
   ]
  },
  {
   "cell_type": "markdown",
   "metadata": {},
   "source": [
    "## 5. Support Vector Machine Classifier + Polynomial Kernel + Grid Search:\n",
    "\n",
    "We will now use GridSearchCV to try various hyperparameters in a SVM with a polynomial kernel.\n"
   ]
  },
  {
   "cell_type": "markdown",
   "metadata": {},
   "source": [
    "\n",
    "\n",
    "\n",
    "### a) Use SVC from sklearn with kernel = \"poly\". Run the GridSearchCV using the following:\n",
    "\n",
    "C: 0.01 - 10 in increments of 0.2  \n",
    "degree: 2, 3, 4, 5, 6\n",
    "\n",
    "Note: Feel free to try out more parameters, the above is the bare minimum for this assignment.\n",
    "\n",
    "Use 5 cross-fold and the default scoring.\n",
    "\n"
   ]
  },
  {
   "cell_type": "code",
   "execution_count": 27,
   "metadata": {},
   "outputs": [],
   "source": [
    "param_grid = {'C': np.arange(0.01, 10, 0.2).tolist(),\n",
    "              'kernel': ['poly'],\n",
    "             'degree' : [2,3,4,5,6]} \n",
    "\n",
    "# create AdaBoost Classifier model \n",
    "svc = svm.SVC()\n",
    "\n",
    "# Use 5 cross-fold and for scoring use \"roc_auc\" \n",
    "svc_Grid = GridSearchCV(svc, param_grid, cv = 5,verbose=0)"
   ]
  },
  {
   "cell_type": "code",
   "execution_count": 28,
   "metadata": {},
   "outputs": [
    {
     "data": {
      "text/plain": [
       "GridSearchCV(cv=5, estimator=SVC(),\n",
       "             param_grid={'C': [0.01, 0.21000000000000002, 0.41000000000000003,\n",
       "                               0.6100000000000001, 0.81, 1.01,\n",
       "                               1.2100000000000002, 1.4100000000000001, 1.61,\n",
       "                               1.81, 2.01, 2.21, 2.41, 2.61, 2.81, 3.01, 3.21,\n",
       "                               3.41, 3.61, 3.81, 4.01, 4.21, 4.41, 4.61,\n",
       "                               4.8100000000000005, 5.01, 5.21, 5.41, 5.61,\n",
       "                               5.8100000000000005, ...],\n",
       "                         'degree': [2, 3, 4, 5, 6], 'kernel': ['poly']})"
      ]
     },
     "execution_count": 28,
     "metadata": {},
     "output_type": "execute_result"
    }
   ],
   "source": [
    "#fit our model to our train data\n",
    "svc_Grid.fit(X_train_scaled,y_train)"
   ]
  },
  {
   "cell_type": "markdown",
   "metadata": {},
   "source": [
    "### b) Identify the best performing model:\n",
    "\n",
    ".best_params_() : This method outputs to best performing parameters\n",
    ".best_estimator_() : This method outputs the best performing model, and can be used for predicting on the X_test\n",
    "\n"
   ]
  },
  {
   "cell_type": "code",
   "execution_count": 29,
   "metadata": {},
   "outputs": [
    {
     "data": {
      "text/plain": [
       "{'C': 3.81, 'degree': 3, 'kernel': 'poly'}"
      ]
     },
     "execution_count": 29,
     "metadata": {},
     "output_type": "execute_result"
    }
   ],
   "source": [
    "#best performing parameters\n",
    "svc_Grid.best_params_"
   ]
  },
  {
   "cell_type": "code",
   "execution_count": 30,
   "metadata": {},
   "outputs": [
    {
     "data": {
      "text/plain": [
       "SVC(C=3.81, kernel='poly')"
      ]
     },
     "execution_count": 30,
     "metadata": {},
     "output_type": "execute_result"
    }
   ],
   "source": [
    "#best performing model\n",
    "svc_Grid.best_estimator_"
   ]
  },
  {
   "cell_type": "markdown",
   "metadata": {},
   "source": [
    "### c) Use the best estimator model to predict on test data. Use the .predict() method to get the predicted classes.\n",
    "\n"
   ]
  },
  {
   "cell_type": "code",
   "execution_count": 31,
   "metadata": {},
   "outputs": [],
   "source": [
    "#Initializing the best estimator model\n",
    "svc_best = svm.SVC(C=3.81, kernel='poly', degree =3 )\n",
    "\n",
    "#Fitting the best fit model on train data\n",
    "svc_best.fit(X_train_scaled,y_train)\n",
    "\n",
    "#predicting the classes of test data\n",
    "y_pred = svc_best.predict(X_test_scaled)"
   ]
  },
  {
   "cell_type": "markdown",
   "metadata": {},
   "source": [
    "### d) Calculate the confusion matrix and classification report for test data."
   ]
  },
  {
   "cell_type": "code",
   "execution_count": 32,
   "metadata": {},
   "outputs": [
    {
     "name": "stdout",
     "output_type": "stream",
     "text": [
      "\t\t\t Confusion Matrix\n",
      "[[13  0  0  0  0  0  1  0  0]\n",
      " [ 0 18  0  4  3  0  0  0  0]\n",
      " [ 0  2 11  0  0  1  0  1  0]\n",
      " [ 0  3  0 19  1  0  0  0  0]\n",
      " [ 0  0  0  0 26  0  0  1  2]\n",
      " [ 0  4  0  0  0 10  1  0  0]\n",
      " [ 1  0  0  0  0  0 14  0  1]\n",
      " [ 0  1  0  5  8  0  0  0  0]\n",
      " [ 0  0  0  1  3  0  0  0 13]]\n",
      "\n",
      "\n",
      "\t\t\t Classification report\n",
      "              precision    recall  f1-score   support\n",
      "\n",
      "    asphalt        0.93      0.93      0.93        14\n",
      "   building        0.64      0.72      0.68        25\n",
      "        car        1.00      0.73      0.85        15\n",
      "   concrete        0.66      0.83      0.73        23\n",
      "      grass        0.63      0.90      0.74        29\n",
      "       pool        0.91      0.67      0.77        15\n",
      "     shadow        0.88      0.88      0.88        16\n",
      "       soil        0.00      0.00      0.00        14\n",
      "       tree        0.81      0.76      0.79        17\n",
      "\n",
      "    accuracy                           0.74       168\n",
      "   macro avg       0.72      0.71      0.71       168\n",
      "weighted avg       0.71      0.74      0.71       168\n",
      "\n"
     ]
    }
   ],
   "source": [
    "#confusion matrix\n",
    "print(\"\\t\\t\\t Confusion Matrix\")\n",
    "print(confusion_matrix(y_test,y_pred))\n",
    "print('\\n')\n",
    "\n",
    "print(\"\\t\\t\\t Classification report\")\n",
    "\n",
    "#classification report\n",
    "print(classification_report(y_test,y_pred))"
   ]
  },
  {
   "cell_type": "markdown",
   "metadata": {},
   "source": [
    "The **precision** of the polynomial SVM model is **85%** and the **accuracy** is **83%**."
   ]
  },
  {
   "cell_type": "markdown",
   "metadata": {},
   "source": [
    "### e)  Calculate predictions for the training data & build the classification report & confusion matrix. Are there signs of overfitting? Why or why not?\n",
    "\n"
   ]
  },
  {
   "cell_type": "code",
   "execution_count": 33,
   "metadata": {},
   "outputs": [
    {
     "name": "stdout",
     "output_type": "stream",
     "text": [
      "\t\t\t Confusion Matrix\n",
      "[[44  0  0  0  1  0  0  0  0]\n",
      " [ 0 95  0  1  1  0  0  0  0]\n",
      " [ 0  0 20  0  1  0  0  0  0]\n",
      " [ 0  1  0 91  1  0  0  0  0]\n",
      " [ 0  1  0  0 81  0  0  0  1]\n",
      " [ 0  0  0  0  1 13  0  0  0]\n",
      " [ 0  0  0  0  0  0 45  0  0]\n",
      " [ 0  0  0  0 11  0  0  9  0]\n",
      " [ 0  0  0  0  5  0  0  0 84]]\n",
      "\n",
      "\n",
      "\t\t\t Classification report\n",
      "              precision    recall  f1-score   support\n",
      "\n",
      "    asphalt        1.00      0.98      0.99        45\n",
      "   building        0.98      0.98      0.98        97\n",
      "        car        1.00      0.95      0.98        21\n",
      "   concrete        0.99      0.98      0.98        93\n",
      "      grass        0.79      0.98      0.88        83\n",
      "       pool        1.00      0.93      0.96        14\n",
      "     shadow        1.00      1.00      1.00        45\n",
      "       soil        1.00      0.45      0.62        20\n",
      "       tree        0.99      0.94      0.97        89\n",
      "\n",
      "    accuracy                           0.95       507\n",
      "   macro avg       0.97      0.91      0.93       507\n",
      "weighted avg       0.96      0.95      0.95       507\n",
      "\n"
     ]
    }
   ],
   "source": [
    "#predicting the classes based on train data\n",
    "y_train_pred = svc_best.predict(X_train_scaled)\n",
    "\n",
    "#confusion matrix\n",
    "print(\"\\t\\t\\t Confusion Matrix\")\n",
    "print(confusion_matrix(y_train,y_train_pred))\n",
    "print('\\n')\n",
    "\n",
    "print(\"\\t\\t\\t Classification report\")\n",
    "\n",
    "#classification report\n",
    "print(classification_report(y_train,y_train_pred))"
   ]
  },
  {
   "cell_type": "markdown",
   "metadata": {},
   "source": [
    "From the initial glance of the classification it may look like the model is not over fitting, however, if we observe some values across some labels we can see that there's enough evidence to label this model to be **overfitting**.\n",
    "\n",
    "One of the conditions for overfitting is that the train error is too large than the test error. In this case we can compare the accuracy values of the test and train dataset to determine the overfit. The train set accuracy us 95% and test set accuracy is 83%. The train accuracy is significantly greater than train accuracy. Based on these values we can conclude that the Polynomial SVM classifier with GridSearchCV is **overfitting**. "
   ]
  },
  {
   "cell_type": "markdown",
   "metadata": {},
   "source": [
    "## 6. Support Vector Machine Classifier + RBF Kernel + Grid Search:\n",
    "\n",
    "We will now use GridSearchCV to try various hyperparameters in a SVM with a RBF kernel.\n",
    "\n"
   ]
  },
  {
   "cell_type": "markdown",
   "metadata": {},
   "source": [
    "### a) Use SVC from sklearn with kernel = \"rbf\". Run the GridSearchCV using the following:\n",
    "\n",
    "C: 0.01 - 10 in increments of 0.2  \n",
    "gamma: 0.01,  0.1, 1, 10, 100\n",
    "\n",
    "Note: Feel free to try out more parameters, the above is the bare minimum for this assignment.\n",
    "\n",
    "Use 5 cross-fold and the default scoring.\n"
   ]
  },
  {
   "cell_type": "code",
   "execution_count": 34,
   "metadata": {},
   "outputs": [],
   "source": [
    "param_grid = {'C': np.arange(0.01, 10, 0.2).tolist(),\n",
    "              'kernel': ['rbf'],\n",
    "             'gamma' : [0.01, 0.1, 1, 10, 100]} \n",
    "\n",
    "# create AdaBoost Classifier model \n",
    "svc = svm.SVC()\n",
    "\n",
    "# Use 5 cross-fold and for scoring use \"roc_auc\" \n",
    "svc_Grid = GridSearchCV(svc, param_grid, cv = 5,verbose=0)"
   ]
  },
  {
   "cell_type": "code",
   "execution_count": 35,
   "metadata": {},
   "outputs": [
    {
     "data": {
      "text/plain": [
       "GridSearchCV(cv=5, estimator=SVC(),\n",
       "             param_grid={'C': [0.01, 0.21000000000000002, 0.41000000000000003,\n",
       "                               0.6100000000000001, 0.81, 1.01,\n",
       "                               1.2100000000000002, 1.4100000000000001, 1.61,\n",
       "                               1.81, 2.01, 2.21, 2.41, 2.61, 2.81, 3.01, 3.21,\n",
       "                               3.41, 3.61, 3.81, 4.01, 4.21, 4.41, 4.61,\n",
       "                               4.8100000000000005, 5.01, 5.21, 5.41, 5.61,\n",
       "                               5.8100000000000005, ...],\n",
       "                         'gamma': [0.01, 0.1, 1, 10, 100], 'kernel': ['rbf']})"
      ]
     },
     "execution_count": 35,
     "metadata": {},
     "output_type": "execute_result"
    }
   ],
   "source": [
    "#fit our model to our train data\n",
    "svc_Grid.fit(X_train_scaled,y_train)"
   ]
  },
  {
   "cell_type": "markdown",
   "metadata": {},
   "source": [
    "\n",
    "### b) Identify the best performing model:\n",
    "\n",
    ".best_params_() : This method outputs to best performing parameters\n",
    ".best_estimator_() : This method outputs the best performing model, and can be used for predicting on the X_test\n",
    "\n"
   ]
  },
  {
   "cell_type": "code",
   "execution_count": 36,
   "metadata": {},
   "outputs": [
    {
     "data": {
      "text/plain": [
       "{'C': 2.81, 'gamma': 0.01, 'kernel': 'rbf'}"
      ]
     },
     "execution_count": 36,
     "metadata": {},
     "output_type": "execute_result"
    }
   ],
   "source": [
    "#best performing parameters\n",
    "svc_Grid.best_params_"
   ]
  },
  {
   "cell_type": "code",
   "execution_count": 37,
   "metadata": {},
   "outputs": [
    {
     "data": {
      "text/plain": [
       "SVC(C=2.81, gamma=0.01)"
      ]
     },
     "execution_count": 37,
     "metadata": {},
     "output_type": "execute_result"
    }
   ],
   "source": [
    "#best performing model\n",
    "svc_Grid.best_estimator_"
   ]
  },
  {
   "cell_type": "markdown",
   "metadata": {},
   "source": [
    "### c) Use the best estimator model to predict on test data. Use the .predict() method to get the predicted classes.\n",
    "\n"
   ]
  },
  {
   "cell_type": "code",
   "execution_count": 38,
   "metadata": {},
   "outputs": [],
   "source": [
    "#Initializing the best estimator model\n",
    "svc_best = svm.SVC(C=2.81, gamma =0.01,kernel='rbf')\n",
    "\n",
    "#Fitting the best fit model on train data\n",
    "svc_best.fit(X_train_scaled,y_train)\n",
    "\n",
    "#predicting the classes of test data\n",
    "y_pred = svc_best.predict(X_test_scaled)"
   ]
  },
  {
   "cell_type": "markdown",
   "metadata": {},
   "source": [
    "### d) Calculate the confusion matrix and classification report for test data.\n"
   ]
  },
  {
   "cell_type": "code",
   "execution_count": 39,
   "metadata": {},
   "outputs": [
    {
     "name": "stdout",
     "output_type": "stream",
     "text": [
      "\t\t\t Confusion Matrix\n",
      "[[13  0  0  0  0  0  1  0  0]\n",
      " [ 0 19  0  5  1  0  0  0  0]\n",
      " [ 0  0 14  1  0  0  0  0  0]\n",
      " [ 0  3  0 20  0  0  0  0  0]\n",
      " [ 0  1  0  0 24  0  0  0  4]\n",
      " [ 0  0  0  0  0 14  1  0  0]\n",
      " [ 1  0  0  1  0  0 14  0  0]\n",
      " [ 0  1  0  5  3  0  0  5  0]\n",
      " [ 0  0  0  1  0  0  0  0 16]]\n",
      "\n",
      "\n",
      "\t\t\t Classification report\n",
      "              precision    recall  f1-score   support\n",
      "\n",
      "    asphalt        0.93      0.93      0.93        14\n",
      "   building        0.79      0.76      0.78        25\n",
      "        car        1.00      0.93      0.97        15\n",
      "   concrete        0.61      0.87      0.71        23\n",
      "      grass        0.86      0.83      0.84        29\n",
      "       pool        1.00      0.93      0.97        15\n",
      "     shadow        0.88      0.88      0.88        16\n",
      "       soil        1.00      0.36      0.53        14\n",
      "       tree        0.80      0.94      0.86        17\n",
      "\n",
      "    accuracy                           0.83       168\n",
      "   macro avg       0.87      0.83      0.83       168\n",
      "weighted avg       0.85      0.83      0.82       168\n",
      "\n"
     ]
    }
   ],
   "source": [
    "#confusion matrix\n",
    "print(\"\\t\\t\\t Confusion Matrix\")\n",
    "print(confusion_matrix(y_test,y_pred))\n",
    "print('\\n')\n",
    "\n",
    "print(\"\\t\\t\\t Classification report\")\n",
    "\n",
    "#classification report\n",
    "print(classification_report(y_test,y_pred))\n"
   ]
  },
  {
   "cell_type": "markdown",
   "metadata": {},
   "source": [
    "The **precision** of the polynomial SVM model is **83%** and the **accuracy** is **83%**."
   ]
  },
  {
   "cell_type": "markdown",
   "metadata": {},
   "source": [
    "\n",
    "### e)  Calculate predictions for the training data & build the classification report & confusion matrix. Are there signs of overfitting? Why or why not?"
   ]
  },
  {
   "cell_type": "code",
   "execution_count": 40,
   "metadata": {},
   "outputs": [
    {
     "name": "stdout",
     "output_type": "stream",
     "text": [
      "\t\t\t Confusion Matrix\n",
      "[[45  0  0  0  0  0  0  0  0]\n",
      " [ 0 96  0  1  0  0  0  0  0]\n",
      " [ 0  0 21  0  0  0  0  0  0]\n",
      " [ 0  1  0 92  0  0  0  0  0]\n",
      " [ 0  1  0  0 81  0  0  0  1]\n",
      " [ 0  0  0  0  0 14  0  0  0]\n",
      " [ 0  0  0  0  0  0 45  0  0]\n",
      " [ 0  1  0  0  0  0  0 19  0]\n",
      " [ 0  0  0  0  1  0  0  0 88]]\n",
      "\n",
      "\n",
      "\t\t\t Classification report\n",
      "              precision    recall  f1-score   support\n",
      "\n",
      "    asphalt        1.00      1.00      1.00        45\n",
      "   building        0.97      0.99      0.98        97\n",
      "        car        1.00      1.00      1.00        21\n",
      "   concrete        0.99      0.99      0.99        93\n",
      "      grass        0.99      0.98      0.98        83\n",
      "       pool        1.00      1.00      1.00        14\n",
      "     shadow        1.00      1.00      1.00        45\n",
      "       soil        1.00      0.95      0.97        20\n",
      "       tree        0.99      0.99      0.99        89\n",
      "\n",
      "    accuracy                           0.99       507\n",
      "   macro avg       0.99      0.99      0.99       507\n",
      "weighted avg       0.99      0.99      0.99       507\n",
      "\n"
     ]
    }
   ],
   "source": [
    "#predicting the classes based on train data\n",
    "y_train_pred = svc_best.predict(X_train_scaled)\n",
    "\n",
    "#confusion matrix\n",
    "print(\"\\t\\t\\t Confusion Matrix\")\n",
    "print(confusion_matrix(y_train,y_train_pred))\n",
    "print('\\n')\n",
    "\n",
    "print(\"\\t\\t\\t Classification report\")\n",
    "\n",
    "#classification report\n",
    "print(classification_report(y_train,y_train_pred))"
   ]
  },
  {
   "cell_type": "markdown",
   "metadata": {},
   "source": [
    "Based on the classification report of the train data we can observe that the model has generalized the data to the maximum extent and was able to predict the train data with **100% accuracy**. So, based on the above metrics and the test metrics we can conclude that the random forest with default parameters is **overfitting**\n",
    "\n",
    "One of the conditions for overfitting is that the train error is too large than the test error. In this case we can compare the accuracy values of the test and train dataset to determine the overfit. The train set accuracy us 99% and test set accuracy is 83%. The train accuracy is significantly greater than train accuracy. Based on these values we can conclude that the Polynomial SVM classifier with GridSearchCV is **overfitting**. "
   ]
  },
  {
   "cell_type": "markdown",
   "metadata": {},
   "source": [
    "## 7. Conceptual Questions:"
   ]
  },
  {
   "cell_type": "markdown",
   "metadata": {},
   "source": [
    "## a) From the models run in steps 2-6, which performs the best based on the Classification Report? Support your reasoning with evidence around your test data. \n",
    "\n"
   ]
  },
  {
   "cell_type": "markdown",
   "metadata": {},
   "source": [
    "Based on the classifciation report of the test data and train data, **Support Vector Machine Classifier + Linear Kernel + Grid Search performed the best**.The other models displayed signs of overfitting.\n",
    "\n",
    "With SVC Linear Kernel, there are no signs of overfitting, and the accuracy for the predictions on the test set is 83%, and the difference in the accuracy scores for Linear Kernel of the train and test set is the minimum when compared to other models. On other hand, accuracy score of train data is 90%. There isn't a significant difference in the accuracy scores.\n",
    "\n",
    "The classification report for the SVC Linear kernel model prediction for test data.\n",
    "\n",
    "<img src=\"Screen Shot 2020-11-05 at 5.49.33 PM.png\">\n",
    "\n",
    "The classification report for the SVC Linear kerne model prediction for train data.\n",
    "\n",
    "<img src=\"Screen Shot 2020-11-05 at 5.49.38 PM.png\">\n",
    "\n",
    "By comparing the both classifications report, we can observe that the model performed well on both train and test data.\n",
    "\n",
    "The generalization error decreases and the training error increases.\n",
    "\n",
    "Based on the above mentioned points, we can conclude that the model **does'nt overfit** and is the best performing model compared to the others."
   ]
  },
  {
   "cell_type": "markdown",
   "metadata": {},
   "source": [
    "## b) Compare models run for steps 4-6 where different kernels were used. What is the benefit of using a polynomial or rbf kernel over a linear kernel? What could be a downside of using a polynomial or rbf kernel? \n",
    "\n"
   ]
  },
  {
   "cell_type": "markdown",
   "metadata": {},
   "source": [
    "- SVM Linear kernel performs the best based on the Classification report of different models run in steps 4-6. Other models have displayed signs of overfitting whereas there weren't any indications of overfitting in the SVM Linear kernel\n",
    "\n",
    "- The polynomial kernel displayed signs of overfitting. The train accuracy is significantly greater than the test accuracy (the difference in accuracy scores is round 16%). Based on these scores we've concluded the model to be **overfitting**\n",
    "\n",
    "- Similarly, the rbf kernel displayed signs of overfitting too.The train accuracy is significantly greater than the test accuracy (the difference in accuracy scores is round 15%). Based on these scores we've concluded the model to be **overfitting**\n",
    "\n",
    "The linear, polynomial and RBF kernel are different cases of introducing the hyperplane decision boundary between the classes.\n",
    "\n",
    "Polynomial or RBF kernels are basically used when the data is not linear and we cannot use a linear seperable boundary to classify different classes of the data. Polynomial and RBF kernels are generally used when we deal with multi-dimensional data like audio, video or image data. These types of data are non-linear and it's difficult to classify the data using a Linear kernel. Also, linear kernel does not project the data into higher dimensional space, its just the inner product of x and y in the lower dimensional space.\n",
    "\n",
    "The disadvantage of using a polynomial or a rbf kernel compared to a Linear SVM is that, linear kernel is a parametric model, and RBF or polynomial kernel SVM isn't, and the complexity of the latter grows with the size of the training set. Also, training of an RBF and polynomial kernel is very expensive compared to the linear kernel.Complex models tend to ovefit the data compared to the simpler ones.We've observed the same in the above exmaples too."
   ]
  },
  {
   "cell_type": "markdown",
   "metadata": {},
   "source": [
    "## c) Explain the 'C' parameter used in steps 4-6. What does a small C mean versus a large C in sklearn? Why is it important to use the 'C' parameter when fitting a model? \n",
    "\n"
   ]
  },
  {
   "cell_type": "markdown",
   "metadata": {},
   "source": [
    "The 'C' paramteter used in steps 4-6 is a regularization parameter, it indicates the SVM optimization about the how degree to which we want to avoid misclassifying each training example.\n",
    "\n",
    "Generally while building a SVM model we search for two things: a hyperplane with the largest minimum margin, and a hyperplane that correctly separates as many instances as possible. The problem is that we'll not always be able to achieve both things. The **C** parameter determines degree to which we want to avoid misclassifying. Below are the representation of the same.\n",
    "\n",
    "<img src=\"Screen Shot 2020-11-05 at 6.40.24 PM.png\">\n",
    "\n",
    "\n",
    "To the left is the representation of a low C value, this indicates a pretty large minimum margin (purple). However, this requires that we neglect the blue circle outlier that we have failed to classify correct. On the right we have a high C. In this case we are classifying all the data correctly and thus end up with a much smaller margin.\n",
    "\n",
    "But how do we determine the value of C? It depends on the data. If the data looks something like below plot, then high value of C is best for the model.\n",
    "\n",
    "<img src=\"Screen Shot 2020-11-05 at 6.45.04 PM.png\">\n",
    "\n",
    "If the data looks something like below plot, then low value of C is best for the model.\n",
    "\n",
    "<img src=\"Screen Shot 2020-11-05 at 6.45.40 PM.png\">\n",
    "\n",
    "To summarize,\n",
    " - A high value for C allows the algorithm to classify all of the data correctly rather than leaving wiggle room for future data\n",
    " - A very small value of C will cause the optimizer to look for a larger margin separating hyperplane, even if that hyperplane misclassifies more points\n",
    " \n",
    "Large values for the C parameter tend to overfit the data. Its suggested to run a GridSearchCV on the C parameter to identify the optimumvalue for C in order to avoid overfitting or underfitting."
   ]
  },
  {
   "cell_type": "markdown",
   "metadata": {},
   "source": [
    "## d) Scaling our input data does not matter much for Random Forest, but it is a critical step for Support Vector Machines. Explain why this is such a critical step. Also, provide an example of a feature from this data set that could cause issues with our SVMs if not scaled.\n",
    "\n"
   ]
  },
  {
   "cell_type": "markdown",
   "metadata": {},
   "source": [
    "Support Vector Machine (SVM) optimization occurs by minimizing the decision vector w, the optimal hyperplane is influenced by the scale of the input features and it’s therefore recommended that data be standardized (mean 0, var 1) prior to SVM model training.\n",
    "\n",
    "The non-standardized data produces decision hyperplanes that are highly sensitive to coefficient C. The standardized data produces much more consistent SVM hyperplanes across hyperparameters.\n",
    "\n",
    "SVM tries to maximize the distance between the separating plane and the support vectors. If any of the features have large values then it will dominate the other features while calculating the distance. If we rescale all features (e.g. to [0, 1]), they all have the same influence on the distance metric."
   ]
  },
  {
   "cell_type": "markdown",
   "metadata": {},
   "source": [
    "## e) Describe conceptually what the purpose of a kernel is for Support Vector Machines."
   ]
  },
  {
   "cell_type": "markdown",
   "metadata": {},
   "source": [
    "The Support Vector Machine is a supervised learning algorithm mostly used for classification and regression. The main idea is that based on the training data the algorithm tries to find the optimal hyperplane which can be used to classify new data points. In two dimensions the hyperplane is a simple line.\n",
    "\n",
    "The SVM works by finding the most similar examples between classes. Those will be the support vectors.Based on these support vectors, the algorithm tries to find the best hyperplane that separates the classes. If we cannot find a straight line to separate the labels we will use the Kernel Trick!\n",
    "\n",
    "Kernel Function is a method that transforms input data into the required form of processing data. “Kernel” is used due to set of mathematical functions used in Support Vector Machine provides the window to manipulate the data. So, Kernel Function generally transforms the training set of data so that a non-linear decision surface is able to transformed to a linear equation in a higher number of dimension spaces."
   ]
  },
  {
   "cell_type": "code",
   "execution_count": null,
   "metadata": {},
   "outputs": [],
   "source": []
  }
 ],
 "metadata": {
  "kernelspec": {
   "display_name": "Python 3",
   "language": "python",
   "name": "python3"
  },
  "language_info": {
   "codemirror_mode": {
    "name": "ipython",
    "version": 3
   },
   "file_extension": ".py",
   "mimetype": "text/x-python",
   "name": "python",
   "nbconvert_exporter": "python",
   "pygments_lexer": "ipython3",
   "version": "3.8.5"
  }
 },
 "nbformat": 4,
 "nbformat_minor": 4
}
